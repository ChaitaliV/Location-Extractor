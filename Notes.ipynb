{
  "cells": [
    {
      "cell_type": "markdown",
      "metadata": {
        "id": "view-in-github",
        "colab_type": "text"
      },
      "source": [
        "<a href=\"https://colab.research.google.com/github/ChaitaliV/Location-Extractor/blob/main/Notes.ipynb\" target=\"_parent\"><img src=\"https://colab.research.google.com/assets/colab-badge.svg\" alt=\"Open In Colab\"/></a>"
      ]
    },
    {
      "cell_type": "code",
      "execution_count": null,
      "metadata": {
        "colab": {
          "base_uri": "https://localhost:8080/"
        },
        "id": "AWq2vQ8UFvt-",
        "outputId": "c078f721-867b-47e6-b608-57d64c93c035"
      },
      "outputs": [
        {
          "output_type": "stream",
          "name": "stdout",
          "text": [
            "Cloning into 'Location-Extractor'...\n",
            "remote: Enumerating objects: 459, done.\u001b[K\n",
            "remote: Counting objects: 100% (96/96), done.\u001b[K\n",
            "remote: Compressing objects: 100% (96/96), done.\u001b[K\n",
            "remote: Total 459 (delta 53), reused 0 (delta 0), pack-reused 363\u001b[K\n",
            "Receiving objects: 100% (459/459), 13.17 MiB | 18.17 MiB/s, done.\n",
            "Resolving deltas: 100% (265/265), done.\n"
          ]
        }
      ],
      "source": [
        "!git clone https://github.com/ChaitaliV/Location-Extractor\n"
      ]
    },
    {
      "cell_type": "code",
      "execution_count": null,
      "metadata": {
        "id": "HKqs5QqXGoiK"
      },
      "outputs": [],
      "source": [
        "import pandas as pd"
      ]
    },
    {
      "cell_type": "code",
      "execution_count": null,
      "metadata": {
        "colab": {
          "base_uri": "https://localhost:8080/",
          "height": 424
        },
        "id": "NIgfIjwTGb6M",
        "outputId": "3b01e8f9-9ea5-43e6-a85b-a5d6cdc13942"
      },
      "outputs": [
        {
          "output_type": "execute_result",
          "data": {
            "text/plain": [
              "   Unnamed: 0.4                                               text  \\\n",
              "0             0  Panchvati Fabric Store,\\nShivam Garments,\\nShr...   \n",
              "1             1  Vesu is a trendy and upscale area in Surat tha...   \n",
              "2             2  For those looking for Western-style clothing, ...   \n",
              "3             3  Ghod Dod Road is a bustling shopping destinati...   \n",
              "4             4  For those looking for contemporary Western wea...   \n",
              "\n",
              "                                                name  Unnamed: 0.3  \\\n",
              "0  ['Panchvati Fabric Store', 'Shivam Garments', ...           NaN   \n",
              "1             ['Aura Designer Boutique', 'En Vogue']           NaN   \n",
              "2  ['Blush', 'Zohra Fashion', 'Aanchal Boutique',...           NaN   \n",
              "3  ['Ghod Dod Road', 'Kalki Fashion', 'Saree Pala...           NaN   \n",
              "4  ['The Dressing Room', 'Seasons', 'Jinal Fashio...           NaN   \n",
              "\n",
              "   Unnamed: 0.2  Unnamed: 0.1  Unnamed: 0  index  \n",
              "0           NaN           NaN         NaN    NaN  \n",
              "1           NaN           NaN         NaN    NaN  \n",
              "2           NaN           NaN         NaN    NaN  \n",
              "3           NaN           NaN         NaN    NaN  \n",
              "4           NaN           NaN         NaN    NaN  "
            ],
            "text/html": [
              "\n",
              "  <div id=\"df-9a072999-cfb1-491b-b377-8224e3eee5e1\">\n",
              "    <div class=\"colab-df-container\">\n",
              "      <div>\n",
              "<style scoped>\n",
              "    .dataframe tbody tr th:only-of-type {\n",
              "        vertical-align: middle;\n",
              "    }\n",
              "\n",
              "    .dataframe tbody tr th {\n",
              "        vertical-align: top;\n",
              "    }\n",
              "\n",
              "    .dataframe thead th {\n",
              "        text-align: right;\n",
              "    }\n",
              "</style>\n",
              "<table border=\"1\" class=\"dataframe\">\n",
              "  <thead>\n",
              "    <tr style=\"text-align: right;\">\n",
              "      <th></th>\n",
              "      <th>Unnamed: 0.4</th>\n",
              "      <th>text</th>\n",
              "      <th>name</th>\n",
              "      <th>Unnamed: 0.3</th>\n",
              "      <th>Unnamed: 0.2</th>\n",
              "      <th>Unnamed: 0.1</th>\n",
              "      <th>Unnamed: 0</th>\n",
              "      <th>index</th>\n",
              "    </tr>\n",
              "  </thead>\n",
              "  <tbody>\n",
              "    <tr>\n",
              "      <th>0</th>\n",
              "      <td>0</td>\n",
              "      <td>Panchvati Fabric Store,\\nShivam Garments,\\nShr...</td>\n",
              "      <td>['Panchvati Fabric Store', 'Shivam Garments', ...</td>\n",
              "      <td>NaN</td>\n",
              "      <td>NaN</td>\n",
              "      <td>NaN</td>\n",
              "      <td>NaN</td>\n",
              "      <td>NaN</td>\n",
              "    </tr>\n",
              "    <tr>\n",
              "      <th>1</th>\n",
              "      <td>1</td>\n",
              "      <td>Vesu is a trendy and upscale area in Surat tha...</td>\n",
              "      <td>['Aura Designer Boutique', 'En Vogue']</td>\n",
              "      <td>NaN</td>\n",
              "      <td>NaN</td>\n",
              "      <td>NaN</td>\n",
              "      <td>NaN</td>\n",
              "      <td>NaN</td>\n",
              "    </tr>\n",
              "    <tr>\n",
              "      <th>2</th>\n",
              "      <td>2</td>\n",
              "      <td>For those looking for Western-style clothing, ...</td>\n",
              "      <td>['Blush', 'Zohra Fashion', 'Aanchal Boutique',...</td>\n",
              "      <td>NaN</td>\n",
              "      <td>NaN</td>\n",
              "      <td>NaN</td>\n",
              "      <td>NaN</td>\n",
              "      <td>NaN</td>\n",
              "    </tr>\n",
              "    <tr>\n",
              "      <th>3</th>\n",
              "      <td>3</td>\n",
              "      <td>Ghod Dod Road is a bustling shopping destinati...</td>\n",
              "      <td>['Ghod Dod Road', 'Kalki Fashion', 'Saree Pala...</td>\n",
              "      <td>NaN</td>\n",
              "      <td>NaN</td>\n",
              "      <td>NaN</td>\n",
              "      <td>NaN</td>\n",
              "      <td>NaN</td>\n",
              "    </tr>\n",
              "    <tr>\n",
              "      <th>4</th>\n",
              "      <td>4</td>\n",
              "      <td>For those looking for contemporary Western wea...</td>\n",
              "      <td>['The Dressing Room', 'Seasons', 'Jinal Fashio...</td>\n",
              "      <td>NaN</td>\n",
              "      <td>NaN</td>\n",
              "      <td>NaN</td>\n",
              "      <td>NaN</td>\n",
              "      <td>NaN</td>\n",
              "    </tr>\n",
              "  </tbody>\n",
              "</table>\n",
              "</div>\n",
              "      <button class=\"colab-df-convert\" onclick=\"convertToInteractive('df-9a072999-cfb1-491b-b377-8224e3eee5e1')\"\n",
              "              title=\"Convert this dataframe to an interactive table.\"\n",
              "              style=\"display:none;\">\n",
              "        \n",
              "  <svg xmlns=\"http://www.w3.org/2000/svg\" height=\"24px\"viewBox=\"0 0 24 24\"\n",
              "       width=\"24px\">\n",
              "    <path d=\"M0 0h24v24H0V0z\" fill=\"none\"/>\n",
              "    <path d=\"M18.56 5.44l.94 2.06.94-2.06 2.06-.94-2.06-.94-.94-2.06-.94 2.06-2.06.94zm-11 1L8.5 8.5l.94-2.06 2.06-.94-2.06-.94L8.5 2.5l-.94 2.06-2.06.94zm10 10l.94 2.06.94-2.06 2.06-.94-2.06-.94-.94-2.06-.94 2.06-2.06.94z\"/><path d=\"M17.41 7.96l-1.37-1.37c-.4-.4-.92-.59-1.43-.59-.52 0-1.04.2-1.43.59L10.3 9.45l-7.72 7.72c-.78.78-.78 2.05 0 2.83L4 21.41c.39.39.9.59 1.41.59.51 0 1.02-.2 1.41-.59l7.78-7.78 2.81-2.81c.8-.78.8-2.07 0-2.86zM5.41 20L4 18.59l7.72-7.72 1.47 1.35L5.41 20z\"/>\n",
              "  </svg>\n",
              "      </button>\n",
              "      \n",
              "  <style>\n",
              "    .colab-df-container {\n",
              "      display:flex;\n",
              "      flex-wrap:wrap;\n",
              "      gap: 12px;\n",
              "    }\n",
              "\n",
              "    .colab-df-convert {\n",
              "      background-color: #E8F0FE;\n",
              "      border: none;\n",
              "      border-radius: 50%;\n",
              "      cursor: pointer;\n",
              "      display: none;\n",
              "      fill: #1967D2;\n",
              "      height: 32px;\n",
              "      padding: 0 0 0 0;\n",
              "      width: 32px;\n",
              "    }\n",
              "\n",
              "    .colab-df-convert:hover {\n",
              "      background-color: #E2EBFA;\n",
              "      box-shadow: 0px 1px 2px rgba(60, 64, 67, 0.3), 0px 1px 3px 1px rgba(60, 64, 67, 0.15);\n",
              "      fill: #174EA6;\n",
              "    }\n",
              "\n",
              "    [theme=dark] .colab-df-convert {\n",
              "      background-color: #3B4455;\n",
              "      fill: #D2E3FC;\n",
              "    }\n",
              "\n",
              "    [theme=dark] .colab-df-convert:hover {\n",
              "      background-color: #434B5C;\n",
              "      box-shadow: 0px 1px 3px 1px rgba(0, 0, 0, 0.15);\n",
              "      filter: drop-shadow(0px 1px 2px rgba(0, 0, 0, 0.3));\n",
              "      fill: #FFFFFF;\n",
              "    }\n",
              "  </style>\n",
              "\n",
              "      <script>\n",
              "        const buttonEl =\n",
              "          document.querySelector('#df-9a072999-cfb1-491b-b377-8224e3eee5e1 button.colab-df-convert');\n",
              "        buttonEl.style.display =\n",
              "          google.colab.kernel.accessAllowed ? 'block' : 'none';\n",
              "\n",
              "        async function convertToInteractive(key) {\n",
              "          const element = document.querySelector('#df-9a072999-cfb1-491b-b377-8224e3eee5e1');\n",
              "          const dataTable =\n",
              "            await google.colab.kernel.invokeFunction('convertToInteractive',\n",
              "                                                     [key], {});\n",
              "          if (!dataTable) return;\n",
              "\n",
              "          const docLinkHtml = 'Like what you see? Visit the ' +\n",
              "            '<a target=\"_blank\" href=https://colab.research.google.com/notebooks/data_table.ipynb>data table notebook</a>'\n",
              "            + ' to learn more about interactive tables.';\n",
              "          element.innerHTML = '';\n",
              "          dataTable['output_type'] = 'display_data';\n",
              "          await google.colab.output.renderOutput(dataTable, element);\n",
              "          const docLink = document.createElement('div');\n",
              "          docLink.innerHTML = docLinkHtml;\n",
              "          element.appendChild(docLink);\n",
              "        }\n",
              "      </script>\n",
              "    </div>\n",
              "  </div>\n",
              "  "
            ]
          },
          "metadata": {},
          "execution_count": 3
        }
      ],
      "source": [
        "df = pd.read_csv('Location-Extractor/Data/places_data.csv')\n",
        "df.head()"
      ]
    },
    {
      "cell_type": "code",
      "source": [
        "para_text = df['text'][:]"
      ],
      "metadata": {
        "id": "nKTGO_zU8nuV"
      },
      "execution_count": null,
      "outputs": []
    },
    {
      "cell_type": "code",
      "source": [
        "places_list = df['name'][:]"
      ],
      "metadata": {
        "id": "_Son6Le8_NWM"
      },
      "execution_count": null,
      "outputs": []
    },
    {
      "cell_type": "code",
      "source": [
        "places_list"
      ],
      "metadata": {
        "colab": {
          "base_uri": "https://localhost:8080/"
        },
        "id": "4BWFYCSs_TVj",
        "outputId": "1eb45d2e-b847-4d85-9bd8-520b1f1a8530"
      },
      "execution_count": null,
      "outputs": [
        {
          "output_type": "execute_result",
          "data": {
            "text/plain": [
              "0       ['Panchvati Fabric Store', 'Shivam Garments', ...\n",
              "1                  ['Aura Designer Boutique', 'En Vogue']\n",
              "2       ['Blush', 'Zohra Fashion', 'Aanchal Boutique',...\n",
              "3       ['Ghod Dod Road', 'Kalki Fashion', 'Saree Pala...\n",
              "4       ['The Dressing Room', 'Seasons', 'Jinal Fashio...\n",
              "                              ...                        \n",
              "1877    ['Le Chapon Fin', 'Garopapilles', 'La Tupina',...\n",
              "1878    [\"L'Ambroisie\", 'Septime', 'Chez Paul', 'Ladur...\n",
              "1879     ['Chez Hugon', 'Paul Bocuse', 'Fromagerie Mons']\n",
              "1880    ['Le Jules Verne', \"Chez L'Ami Jean\", 'Guy Sav...\n",
              "1881    ['Paul Bocuse', \"L'Auberge du Pont de Collonge...\n",
              "Name: name, Length: 1882, dtype: object"
            ]
          },
          "metadata": {},
          "execution_count": 8
        }
      ]
    },
    {
      "cell_type": "code",
      "source": [
        "import ast\n",
        "\n",
        "all_places = []\n",
        "for place in places_list:\n",
        "  all_places.append(ast.literal_eval(place))\n"
      ],
      "metadata": {
        "id": "CB01DGkwAici"
      },
      "execution_count": null,
      "outputs": []
    },
    {
      "cell_type": "code",
      "source": [
        "len(places_list)"
      ],
      "metadata": {
        "colab": {
          "base_uri": "https://localhost:8080/"
        },
        "id": "C15gxXV5BGtr",
        "outputId": "b79c54fd-aeae-4e1a-af6e-f1fe48ad0b20"
      },
      "execution_count": null,
      "outputs": [
        {
          "output_type": "execute_result",
          "data": {
            "text/plain": [
              "1882"
            ]
          },
          "metadata": {},
          "execution_count": 23
        }
      ]
    },
    {
      "cell_type": "code",
      "source": [
        "new_df = pd.DataFrame(columns=['Line', 'Place'])\n",
        "Lines = []\n",
        "Places = []"
      ],
      "metadata": {
        "id": "urYtFCdD_jfz"
      },
      "execution_count": null,
      "outputs": []
    },
    {
      "cell_type": "code",
      "source": [
        "for i in range (0,len(df)):\n",
        "    text = para_text[i]\n",
        "    places = all_places[i]\n",
        "    lines = text.split('. ')\n",
        "    for line in lines:\n",
        "        for place in places:\n",
        "            if place in line:\n",
        "              Lines.append(line)\n",
        "              Places.append(place)\n",
        "            else:\n",
        "              Lines.append(line)\n",
        "              Places.append(None)\n",
        "\n"
      ],
      "metadata": {
        "id": "S6jxCTt9-BVm"
      },
      "execution_count": null,
      "outputs": []
    },
    {
      "cell_type": "code",
      "source": [
        "import spacy\n",
        "\n",
        "nlp = spacy.load('en_core_web_sm')\n",
        "\n",
        "def get_note(sentence, place_name):\n",
        "\n",
        "  # Apply spaCy's dependency parsing and POS tagging on the sentence\n",
        "  doc = nlp(sentence)\n",
        "\n",
        "  # Initialize a list to store relevant phrases\n",
        "  phrases = []\n",
        "\n",
        "  # Iterate over the verbs and verb phrases in the sentence\n",
        "  for token in doc:\n",
        "      if token.pos_ == 'VERB':\n",
        "          verb_phrase = [t.text for t in token.subtree]\n",
        "          phrases.append(\" \".join(verb_phrase))\n",
        "\n",
        "  # # Print the extracted phrases\n",
        "  # for phrase in phrases:\n",
        "  #     print(phrase)\n",
        "  # Initialize a list to store the extracted notes\n",
        "  notes = []\n",
        "\n",
        "  # Iterate over the sentences\n",
        "  for sentence in phrases:\n",
        "      if place_name.lower() not in sentence.lower():\n",
        "          notes.append(sentence)\n",
        "\n",
        "  # Print the extracted notes\n",
        "  return notes[0]"
      ],
      "metadata": {
        "id": "1EW9QhNDFhL8"
      },
      "execution_count": null,
      "outputs": []
    },
    {
      "cell_type": "code",
      "source": [
        "sentence = \"You can visit the Chocolate room and have some of the best desserts there\"\n",
        "place_name = 'the Chocolate room'"
      ],
      "metadata": {
        "id": "po6z9YM8IXJ2"
      },
      "execution_count": null,
      "outputs": []
    },
    {
      "cell_type": "code",
      "source": [
        "get_note(sentence,place_name)"
      ],
      "metadata": {
        "colab": {
          "base_uri": "https://localhost:8080/",
          "height": 35
        },
        "id": "IOnGpyahGSLP",
        "outputId": "71b64702-b762-4f21-bdb6-9050ac136989"
      },
      "execution_count": null,
      "outputs": [
        {
          "output_type": "execute_result",
          "data": {
            "text/plain": [
              "'have some of the best desserts there'"
            ],
            "application/vnd.google.colaboratory.intrinsic+json": {
              "type": "string"
            }
          },
          "metadata": {},
          "execution_count": 58
        }
      ]
    },
    {
      "cell_type": "code",
      "source": [
        "sentences = [\n",
        "    \"Visit the Eiffel Tower in Paris and admire panoramic views of the city from its observation decks.\",\n",
        "    \"Explore the Grand Canyon in Arizona and hike along its breathtaking trails to witness stunning natural beauty.\",\n",
        "    \"Head to Times Square in New York City and immerse yourself in the vibrant atmosphere, surrounded by dazzling billboards and bustling crowds.\",\n",
        "    \"Enjoy a safari adventure in the Maasai Mara National Reserve in Kenya, where you can spot wildlife such as lions, elephants, and giraffes.\",\n",
        "    \"Discover the ancient ruins of Machu Picchu in Peru and marvel at the impressive Inca architecture nestled amidst the mountainous landscape.\",\n",
        "    \"Relax on the beaches of Bali and indulge in water sports like surfing, snorkeling, and diving.\",\n",
        "    \"Take a trip to the Taj Mahal in Agra, India, and witness the iconic monument of love while exploring its beautiful gardens.\",\n",
        "    \"Visit the Louvre Museum in Paris to see world-renowned artworks like the Mona Lisa and Venus de Milo.\",\n",
        "    \"Explore the Great Barrier Reef in Australia and experience snorkeling or diving to witness the stunning marine life and colorful coral reefs.\",\n",
        "    \"Wander through the streets of Tokyo, Japan, and indulge in delicious street food, visit traditional temples, and explore vibrant neighborhoods like Shibuya and Akihabara.\",\n",
        "    \n",
        "]\n"
      ],
      "metadata": {
        "id": "w3qK8VNrIYZY"
      },
      "execution_count": null,
      "outputs": []
    },
    {
      "cell_type": "code",
      "source": [
        "places = [\"Eiffel Tower\",\"Grand Canyon\",\"Times Square\",\"Maasai Mara National Reserve\",\"Machu Picchu\",\"Bali\",\"Taj Mahal\",\"Louvre Museum\",\"Great Barrier Reef\",\"Tokyo\"]"
      ],
      "metadata": {
        "id": "w5OTrfJeJTF7"
      },
      "execution_count": null,
      "outputs": []
    },
    {
      "cell_type": "code",
      "source": [
        "from spacy.util import get_async\n",
        "all_notes = []\n",
        "for i in range (0,len(sentences)):\n",
        "  all_notes.append(get_note(sentences[i],places[i]))"
      ],
      "metadata": {
        "id": "T0z-GUbJJtQx"
      },
      "execution_count": null,
      "outputs": []
    },
    {
      "cell_type": "code",
      "source": [
        "all_notes"
      ],
      "metadata": {
        "colab": {
          "base_uri": "https://localhost:8080/"
        },
        "id": "tKmsSwlAKANv",
        "outputId": "155653fa-feaa-4570-c084-9782ff2c2b4b"
      },
      "execution_count": null,
      "outputs": [
        {
          "output_type": "execute_result",
          "data": {
            "text/plain": [
              "['admire panoramic views of the city from its observation decks',\n",
              " 'breathtaking',\n",
              " 'immerse yourself in the vibrant atmosphere , surrounded by dazzling billboards and bustling crowds',\n",
              " 'where you can spot wildlife such as lions , elephants , and giraffes',\n",
              " 'marvel at the impressive Inca architecture nestled amidst the mountainous landscape',\n",
              " 'indulge in water sports like surfing , snorkeling , and diving',\n",
              " 'witness the iconic monument of love while exploring its beautiful gardens',\n",
              " 'to see world - renowned artworks like the Mona Lisa and Venus de Milo',\n",
              " 'to witness the stunning marine life and colorful coral reefs',\n",
              " 'indulge in delicious street food , visit traditional temples , and explore vibrant neighborhoods like Shibuya and Akihabara']"
            ]
          },
          "metadata": {},
          "execution_count": 62
        }
      ]
    },
    {
      "cell_type": "code",
      "source": [
        "df = pd.DataFrame({'Text':sentences, \"Note\": all_notes})"
      ],
      "metadata": {
        "id": "vMCI0JeHKBNA"
      },
      "execution_count": null,
      "outputs": []
    },
    {
      "cell_type": "code",
      "source": [
        "df"
      ],
      "metadata": {
        "colab": {
          "base_uri": "https://localhost:8080/",
          "height": 363
        },
        "id": "B-NUPIQUKU5k",
        "outputId": "9ca0b1bb-b1e9-4105-d57a-0742e1269f09"
      },
      "execution_count": null,
      "outputs": [
        {
          "output_type": "execute_result",
          "data": {
            "text/plain": [
              "                                                Text  \\\n",
              "0  Visit the Eiffel Tower in Paris and admire pan...   \n",
              "1  Explore the Grand Canyon in Arizona and hike a...   \n",
              "2  Head to Times Square in New York City and imme...   \n",
              "3  Enjoy a safari adventure in the Maasai Mara Na...   \n",
              "4  Discover the ancient ruins of Machu Picchu in ...   \n",
              "5  Relax on the beaches of Bali and indulge in wa...   \n",
              "6  Take a trip to the Taj Mahal in Agra, India, a...   \n",
              "7  Visit the Louvre Museum in Paris to see world-...   \n",
              "8  Explore the Great Barrier Reef in Australia an...   \n",
              "9  Wander through the streets of Tokyo, Japan, an...   \n",
              "\n",
              "                                                Note  \n",
              "0  admire panoramic views of the city from its ob...  \n",
              "1                                       breathtaking  \n",
              "2  immerse yourself in the vibrant atmosphere , s...  \n",
              "3  where you can spot wildlife such as lions , el...  \n",
              "4  marvel at the impressive Inca architecture nes...  \n",
              "5  indulge in water sports like surfing , snorkel...  \n",
              "6  witness the iconic monument of love while expl...  \n",
              "7  to see world - renowned artworks like the Mona...  \n",
              "8  to witness the stunning marine life and colorf...  \n",
              "9  indulge in delicious street food , visit tradi...  "
            ],
            "text/html": [
              "\n",
              "  <div id=\"df-2f240a36-203e-4272-a652-f8cbcdaca357\">\n",
              "    <div class=\"colab-df-container\">\n",
              "      <div>\n",
              "<style scoped>\n",
              "    .dataframe tbody tr th:only-of-type {\n",
              "        vertical-align: middle;\n",
              "    }\n",
              "\n",
              "    .dataframe tbody tr th {\n",
              "        vertical-align: top;\n",
              "    }\n",
              "\n",
              "    .dataframe thead th {\n",
              "        text-align: right;\n",
              "    }\n",
              "</style>\n",
              "<table border=\"1\" class=\"dataframe\">\n",
              "  <thead>\n",
              "    <tr style=\"text-align: right;\">\n",
              "      <th></th>\n",
              "      <th>Text</th>\n",
              "      <th>Note</th>\n",
              "    </tr>\n",
              "  </thead>\n",
              "  <tbody>\n",
              "    <tr>\n",
              "      <th>0</th>\n",
              "      <td>Visit the Eiffel Tower in Paris and admire pan...</td>\n",
              "      <td>admire panoramic views of the city from its ob...</td>\n",
              "    </tr>\n",
              "    <tr>\n",
              "      <th>1</th>\n",
              "      <td>Explore the Grand Canyon in Arizona and hike a...</td>\n",
              "      <td>breathtaking</td>\n",
              "    </tr>\n",
              "    <tr>\n",
              "      <th>2</th>\n",
              "      <td>Head to Times Square in New York City and imme...</td>\n",
              "      <td>immerse yourself in the vibrant atmosphere , s...</td>\n",
              "    </tr>\n",
              "    <tr>\n",
              "      <th>3</th>\n",
              "      <td>Enjoy a safari adventure in the Maasai Mara Na...</td>\n",
              "      <td>where you can spot wildlife such as lions , el...</td>\n",
              "    </tr>\n",
              "    <tr>\n",
              "      <th>4</th>\n",
              "      <td>Discover the ancient ruins of Machu Picchu in ...</td>\n",
              "      <td>marvel at the impressive Inca architecture nes...</td>\n",
              "    </tr>\n",
              "    <tr>\n",
              "      <th>5</th>\n",
              "      <td>Relax on the beaches of Bali and indulge in wa...</td>\n",
              "      <td>indulge in water sports like surfing , snorkel...</td>\n",
              "    </tr>\n",
              "    <tr>\n",
              "      <th>6</th>\n",
              "      <td>Take a trip to the Taj Mahal in Agra, India, a...</td>\n",
              "      <td>witness the iconic monument of love while expl...</td>\n",
              "    </tr>\n",
              "    <tr>\n",
              "      <th>7</th>\n",
              "      <td>Visit the Louvre Museum in Paris to see world-...</td>\n",
              "      <td>to see world - renowned artworks like the Mona...</td>\n",
              "    </tr>\n",
              "    <tr>\n",
              "      <th>8</th>\n",
              "      <td>Explore the Great Barrier Reef in Australia an...</td>\n",
              "      <td>to witness the stunning marine life and colorf...</td>\n",
              "    </tr>\n",
              "    <tr>\n",
              "      <th>9</th>\n",
              "      <td>Wander through the streets of Tokyo, Japan, an...</td>\n",
              "      <td>indulge in delicious street food , visit tradi...</td>\n",
              "    </tr>\n",
              "  </tbody>\n",
              "</table>\n",
              "</div>\n",
              "      <button class=\"colab-df-convert\" onclick=\"convertToInteractive('df-2f240a36-203e-4272-a652-f8cbcdaca357')\"\n",
              "              title=\"Convert this dataframe to an interactive table.\"\n",
              "              style=\"display:none;\">\n",
              "        \n",
              "  <svg xmlns=\"http://www.w3.org/2000/svg\" height=\"24px\"viewBox=\"0 0 24 24\"\n",
              "       width=\"24px\">\n",
              "    <path d=\"M0 0h24v24H0V0z\" fill=\"none\"/>\n",
              "    <path d=\"M18.56 5.44l.94 2.06.94-2.06 2.06-.94-2.06-.94-.94-2.06-.94 2.06-2.06.94zm-11 1L8.5 8.5l.94-2.06 2.06-.94-2.06-.94L8.5 2.5l-.94 2.06-2.06.94zm10 10l.94 2.06.94-2.06 2.06-.94-2.06-.94-.94-2.06-.94 2.06-2.06.94z\"/><path d=\"M17.41 7.96l-1.37-1.37c-.4-.4-.92-.59-1.43-.59-.52 0-1.04.2-1.43.59L10.3 9.45l-7.72 7.72c-.78.78-.78 2.05 0 2.83L4 21.41c.39.39.9.59 1.41.59.51 0 1.02-.2 1.41-.59l7.78-7.78 2.81-2.81c.8-.78.8-2.07 0-2.86zM5.41 20L4 18.59l7.72-7.72 1.47 1.35L5.41 20z\"/>\n",
              "  </svg>\n",
              "      </button>\n",
              "      \n",
              "  <style>\n",
              "    .colab-df-container {\n",
              "      display:flex;\n",
              "      flex-wrap:wrap;\n",
              "      gap: 12px;\n",
              "    }\n",
              "\n",
              "    .colab-df-convert {\n",
              "      background-color: #E8F0FE;\n",
              "      border: none;\n",
              "      border-radius: 50%;\n",
              "      cursor: pointer;\n",
              "      display: none;\n",
              "      fill: #1967D2;\n",
              "      height: 32px;\n",
              "      padding: 0 0 0 0;\n",
              "      width: 32px;\n",
              "    }\n",
              "\n",
              "    .colab-df-convert:hover {\n",
              "      background-color: #E2EBFA;\n",
              "      box-shadow: 0px 1px 2px rgba(60, 64, 67, 0.3), 0px 1px 3px 1px rgba(60, 64, 67, 0.15);\n",
              "      fill: #174EA6;\n",
              "    }\n",
              "\n",
              "    [theme=dark] .colab-df-convert {\n",
              "      background-color: #3B4455;\n",
              "      fill: #D2E3FC;\n",
              "    }\n",
              "\n",
              "    [theme=dark] .colab-df-convert:hover {\n",
              "      background-color: #434B5C;\n",
              "      box-shadow: 0px 1px 3px 1px rgba(0, 0, 0, 0.15);\n",
              "      filter: drop-shadow(0px 1px 2px rgba(0, 0, 0, 0.3));\n",
              "      fill: #FFFFFF;\n",
              "    }\n",
              "  </style>\n",
              "\n",
              "      <script>\n",
              "        const buttonEl =\n",
              "          document.querySelector('#df-2f240a36-203e-4272-a652-f8cbcdaca357 button.colab-df-convert');\n",
              "        buttonEl.style.display =\n",
              "          google.colab.kernel.accessAllowed ? 'block' : 'none';\n",
              "\n",
              "        async function convertToInteractive(key) {\n",
              "          const element = document.querySelector('#df-2f240a36-203e-4272-a652-f8cbcdaca357');\n",
              "          const dataTable =\n",
              "            await google.colab.kernel.invokeFunction('convertToInteractive',\n",
              "                                                     [key], {});\n",
              "          if (!dataTable) return;\n",
              "\n",
              "          const docLinkHtml = 'Like what you see? Visit the ' +\n",
              "            '<a target=\"_blank\" href=https://colab.research.google.com/notebooks/data_table.ipynb>data table notebook</a>'\n",
              "            + ' to learn more about interactive tables.';\n",
              "          element.innerHTML = '';\n",
              "          dataTable['output_type'] = 'display_data';\n",
              "          await google.colab.output.renderOutput(dataTable, element);\n",
              "          const docLink = document.createElement('div');\n",
              "          docLink.innerHTML = docLinkHtml;\n",
              "          element.appendChild(docLink);\n",
              "        }\n",
              "      </script>\n",
              "    </div>\n",
              "  </div>\n",
              "  "
            ]
          },
          "metadata": {},
          "execution_count": 64
        }
      ]
    },
    {
      "cell_type": "code",
      "source": [
        "df.to_csv('testing of notes model.csv')"
      ],
      "metadata": {
        "id": "Z-rJuMWXKVkh"
      },
      "execution_count": null,
      "outputs": []
    },
    {
      "cell_type": "code",
      "source": [],
      "metadata": {
        "id": "LwL29HxvKcfj"
      },
      "execution_count": null,
      "outputs": []
    }
  ],
  "metadata": {
    "colab": {
      "provenance": [],
      "authorship_tag": "ABX9TyOv8Y7i6MMfXDoYofRsXR0O",
      "include_colab_link": true
    },
    "kernelspec": {
      "display_name": "Python 3",
      "name": "python3"
    },
    "language_info": {
      "name": "python"
    }
  },
  "nbformat": 4,
  "nbformat_minor": 0
}