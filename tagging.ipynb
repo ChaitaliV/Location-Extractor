{
  "nbformat": 4,
  "nbformat_minor": 0,
  "metadata": {
    "colab": {
      "provenance": [],
      "authorship_tag": "ABX9TyOiGbtcYsZlM17Zq+ntygUl",
      "include_colab_link": true
    },
    "kernelspec": {
      "name": "python3",
      "display_name": "Python 3"
    },
    "language_info": {
      "name": "python"
    }
  },
  "cells": [
    {
      "cell_type": "markdown",
      "metadata": {
        "id": "view-in-github",
        "colab_type": "text"
      },
      "source": [
        "<a href=\"https://colab.research.google.com/github/ChaitaliV/Location-Extractor/blob/main/tagging.ipynb\" target=\"_parent\"><img src=\"https://colab.research.google.com/assets/colab-badge.svg\" alt=\"Open In Colab\"/></a>"
      ]
    },
    {
      "cell_type": "code",
      "execution_count": null,
      "metadata": {
        "id": "RLHOi7dvIy5H"
      },
      "outputs": [],
      "source": [
        "import pandas as pd"
      ]
    },
    {
      "cell_type": "code",
      "source": [
        "des = []\n",
        "tags = []"
      ],
      "metadata": {
        "id": "xjSD1BZGkCQO"
      },
      "execution_count": null,
      "outputs": []
    },
    {
      "cell_type": "code",
      "source": [
        "des.append(\"\"\"VR Surat is a premium shopping mall that offers a wide range of retail,\n",
        " dining, and entertainment options. Visitors can shop for luxury brands, enjoy delicious food, and experience virtual reality gaming.\n",
        " Its speciality lies in being the largest mall in the city.\"\"\")\n",
        "tags.append([\"Mall\", \"Shopping & Entertainment\", \"Virtual Reality\"])"
      ],
      "metadata": {
        "id": "y4gtZl3gkEgC"
      },
      "execution_count": null,
      "outputs": []
    },
    {
      "cell_type": "code",
      "source": [
        "des.append(\"\"\"\"Dumas Beach is a picturesque sandy beach on the Arabian Sea, located in Surat.\n",
        " It's a popular destination for tourists and locals alike, offering stunning views,\n",
        "  refreshing sea breeze, and various activities like horse riding, parasailing, and more.\" \"\"\")\n",
        "tags.append( [\"Beach\", \"Tourism & Adventure\", \"Scenic Views\"])"
      ],
      "metadata": {
        "id": "ki5-6kQ8kJJi"
      },
      "execution_count": null,
      "outputs": []
    },
    {
      "cell_type": "code",
      "source": [
        "des.append(\"\"\"Ambika Niketan Temple is a famous Hindu temple located in Surat.\n",
        " It is dedicated to the goddess Ambika, and attracts numerous devotees seeking her blessings.\n",
        "  The temple's architecture is breathtaking and includes a beautiful garden and a fountain. \n",
        "Its specialty lies in being a serene and peaceful place for meditation and prayer. \"\"\")\n",
        "tags.append([\"Temple\", \"Spirituality & Devotion\", \"Serene Ambience\"])"
      ],
      "metadata": {
        "id": "-wfWhXc5kJL6"
      },
      "execution_count": null,
      "outputs": []
    },
    {
      "cell_type": "code",
      "source": [
        "des.append(\"\"\"Surat Castle, also known as the Old Fort of Surat, is a historic fort located in the heart of Surat city. The fort was built during the 16th century by the Gujarat Sultanate and played a significant role in protecting the city from invasions. Today, it stands as a symbol of the city's rich history and culture, and is a popular tourist attraction. \"\"\")\n",
        "tags.append( [\"Fort\", \"Historic Site\", \"Tourism\"])"
      ],
      "metadata": {
        "id": "eXNKTOcukJOg"
      },
      "execution_count": null,
      "outputs": []
    },
    {
      "cell_type": "code",
      "source": [
        "des.append(\"\"\"Chintamani Jain Temple in Surat is a peaceful place for worship and meditation. It provides religious services and hosts cultural events. Speciality: Elaborate carvings and intricate architecture. \"\"\")\n",
        "tags.append([\"Temple\", \"Religious Services\", \"Intricate Architecture\"])"
      ],
      "metadata": {
        "id": "V-3-oo_wkJQw"
      },
      "execution_count": null,
      "outputs": []
    },
    {
      "cell_type": "code",
      "source": [
        "des.append(\"\"\"Gopi Talav is a serene lake located in the heart of Surat city. It is surrounded by lush greenery and offers a peaceful retreat from the bustling city life. The lake has a beautiful temple located in the middle, dedicated to Lord Krishna and Radha. It's a popular spot for picnics and evening walks, and also offers boating facilities.\"\"\")\n",
        "tags.append( [\"Lake\", \"Temple\", \"Picnic Spot\"])"
      ],
      "metadata": {
        "id": "LD7CkkXmkJTB"
      },
      "execution_count": null,
      "outputs": []
    },
    {
      "cell_type": "code",
      "source": [
        "des.append(\"\"\"Jagdishchandra Bose Aquarium is a popular aquarium located in Surat. It is named after the famous Indian scientist, Jagdish Chandra Bose, and houses a vast collection of marine and freshwater species. The aquarium provides an educational and entertaining experience for visitors of all ages, with interactive exhibits and activities. Its specialty lies in being the largest aquarium in Gujarat \"\"\")\n",
        "tags.append([\"Aquarium\", \"Education & Entertainment\", \"Marine Life\"])"
      ],
      "metadata": {
        "id": "9LbJwv-LkJVK"
      },
      "execution_count": null,
      "outputs": []
    },
    {
      "cell_type": "code",
      "source": [
        "des.append(\"\"\"Science Centre in Surat is an interactive and educational place for all ages. It provides exhibits and workshops on science and technology. Speciality: 3D science shows and planetarium.\"\"\")\n",
        "tags.append([\"Science Centre\",\"Science Education\",\"3D Science Shows\"])"
      ],
      "metadata": {
        "id": "50-nISb1kJc1"
      },
      "execution_count": null,
      "outputs": []
    },
    {
      "cell_type": "code",
      "source": [
        "des.append(\"\"\"Sneh Rashmi Botanical Garden is a beautiful garden located in Surat, known for its diverse collection of plants and flowers. The garden provides a peaceful escape from the busy city life, and offers visitors the chance to explore different ecosystems and learn about horticulture. Its specialty lies in being a conservation center for rare and endangered plant species.\"\"\")\n",
        "tags.append([\"Botanical Garden\", \"Conservation\", \"Nature\"])"
      ],
      "metadata": {
        "id": "k05lyJeEkJd6"
      },
      "execution_count": null,
      "outputs": []
    },
    {
      "cell_type": "code",
      "source": [
        "des.append(\"\"\"Sarthana Nature Park and Zoo in Surat is a beautiful natural reserve with a wide variety of flora and fauna. It provides educational information and fun activities for visitors of all ages. Speciality: Mini train rides and butterfly park.\"\"\")\n",
        "tags.append([\"Nature Park\", \"Education and Recreation\", \"Mini Train Rides\"])"
      ],
      "metadata": {
        "id": "6eFQpmGqkJfN"
      },
      "execution_count": null,
      "outputs": []
    },
    {
      "cell_type": "code",
      "source": [
        "des.append(\"\"\"Dutch Garden is a well-maintained garden located in the heart of Surat city. The garden is a popular tourist spot and is known for its historical significance, as it was built during the Dutch colonial era. It offers a serene atmosphere and beautiful architecture, with a variety of flora and fauna. Its specialty lies in being a popular picnic spot for families and friends\"\"\")\n",
        "tags.append( [\"Garden\", \"Historical\", \"Picnic Spot\"])"
      ],
      "metadata": {
        "id": "XvVuXyfikJg6"
      },
      "execution_count": null,
      "outputs": []
    },
    {
      "cell_type": "code",
      "source": [
        "des.append(\"\"\"ISKCON Temple in Surat is a spiritual haven for devotees of Lord Krishna. It provides religious services, spiritual classes, and cultural events. It has Beautiful deity darshans and delicious prasadam\"\"\")\n",
        "tags.append( [\"Temple\", \"Religious Services\", \"spiritual classes\"])"
      ],
      "metadata": {
        "id": "C6EIiXm-kJjJ"
      },
      "execution_count": null,
      "outputs": []
    },
    {
      "cell_type": "code",
      "source": [
        "des.append(\"\"\"Sardar Patel National Memorial in Surat is a tribute to the Iron Man of India - Sardar Vallabhbhai Patel. \n",
        "It provides historical information, exhibits, and a library. Speciality: Rare photographs and personal belongings of Sardar Patel.\"\"\")\n",
        "tags.append([\"National Memorial\", \"Historical Information\", \"Rare Photographs\"])"
      ],
      "metadata": {
        "id": "QqT3WbuIkJkT"
      },
      "execution_count": null,
      "outputs": []
    },
    {
      "cell_type": "code",
      "source": [
        "des.append(\"\"\"Sardar Patel Museum is a museum located in Surat, dedicated to the life and achievements of Sardar Vallabhbhai Patel, \n",
        "one of the founding fathers of modern India. The museum showcases a vast collection of artifacts and memorabilia related to Patel's \n",
        "life, including photographs, documents, and personal belongings. It provides an educational and inspiring experience for visitors of \n",
        "all ages. Its specialty lies in being the only museum in Gujarat dedicated to Sardar Patel. \"\"\")\n",
        "tags.append([\"Museum\", \"History\", \"Education\"])"
      ],
      "metadata": {
        "id": "-Bf_nGJVkJlq"
      },
      "execution_count": null,
      "outputs": []
    },
    {
      "cell_type": "code",
      "source": [
        "des.append(\"\"\"Suryapur Gate in Surat is a historical landmark that stands as a testament to the city's rich cultural heritage. It provides an insight into the city's past and the influence of Mughal architecture. It's speciality is The intricate carvings and design of the gate.\"\"\")\n",
        "tags.append([\"Historical Landmark\", \"Cultural Heritage\", \"Mughal Architecture\"])"
      ],
      "metadata": {
        "id": "OFfXt1vpkJm-"
      },
      "execution_count": null,
      "outputs": []
    },
    {
      "cell_type": "code",
      "source": [
        "des.append(\"\"\"Dandi Beach is a beautiful and serene beach located in the city of Surat. The beach has historical significance, as it was the site of the famous Salt Satyagraha led by Mahatma Gandhi in 1930. Visitors can enjoy the scenic beauty of the beach, take a dip in the sea, or simply relax and unwind. Its specialty lies in being a symbol of India's struggle for freedom\"\"\")\n",
        "tags.append([\"Beach\", \"History\", \"Salt Satyagraha\"])"
      ],
      "metadata": {
        "id": "XAcR2RZ_kJow"
      },
      "execution_count": null,
      "outputs": []
    },
    {
      "cell_type": "code",
      "source": [
        "des.append(\"\"\"Shri Swaminarayan Mandir in Surat is a beautiful temple dedicated to Lord Swaminarayan. It provides a serene atmosphere for prayer and meditation. Speciality: Exquisite architecture and intricate carvings \"\"\")\n",
        "tags.append([\"Temple\", \"Serene Atmosphere\", \"Exquisite Architecture\"])"
      ],
      "metadata": {
        "id": "sV2Z9FT5kJqG"
      },
      "execution_count": null,
      "outputs": []
    },
    {
      "cell_type": "code",
      "source": [
        "des.append(\"\"\"Tapi Riverfront is a picturesque promenade located along the banks of the Tapi river in Surat. The riverfront is a popular spot for locals and tourists alike to take a stroll, jog, cycle or simply relax and enjoy the serene view of the river. The riverfront has several gardens, fountains, and seating areas where people can spend time with their friends and family. Its specialty lies in being a perfect place to unwind and enjoy nature\"\"\")\n",
        "tags.append([\"Riverfront\", \"Nature\", \"Relaxation\"])"
      ],
      "metadata": {
        "id": "d6OSu0hqkJre"
      },
      "execution_count": null,
      "outputs": []
    },
    {
      "cell_type": "code",
      "source": [
        "des.append(\"\"\"Hazira Port in Surat is a modern and well-equipped port that caters to the needs of various industries. It provides efficient handling of cargo and offers excellent connectivity to major cities. Speciality: State-of-the-art infrastructure and facilities\"\"\")\n",
        "tags.append([\"Port\", \"Cargo Handling\", \"State-of-the-art Infrastructure\"])"
      ],
      "metadata": {
        "id": "yqGqRzUgkJty"
      },
      "execution_count": null,
      "outputs": []
    },
    {
      "cell_type": "code",
      "source": [
        "des.append(\"\"\"The Chowk is a bustling shopping district located in the heart of Surat.\n",
        " The area is known for its vibrant atmosphere, colorful street markets, and variety of shops selling textiles,\n",
        "  jewelry, and handicrafts. Visitors can explore the narrow lanes, haggle with the shopkeepers and experience the local culture.\n",
        " Its specialty lies in being a shopper's paradise offering a wide range of products\"\"\")\n",
        "tags.append([\"Shopping district\", \"textiles and jewelry\", \"handicrafs\"])"
      ],
      "metadata": {
        "id": "awQTcWRNkJu_"
      },
      "execution_count": null,
      "outputs": []
    },
    {
      "cell_type": "code",
      "source": [
        "des.append(\"\"\"Gaurav Path in Surat is a vibrant and bustling shopping district that offers\n",
        " a wide range of options for shoppers. It provides a unique blend of traditional and modern shopping \n",
        " experiences with street vendors and shopping malls. It is Famous for textiles and ethnic wear.\"\"\")\n",
        "tags.append( [\"Shopping District\", \"Traditional and Modern\", \"Textiles and Ethnic Wear\"])"
      ],
      "metadata": {
        "id": "BJ8GMtQjkJwV"
      },
      "execution_count": null,
      "outputs": []
    },
    {
      "cell_type": "code",
      "source": [
        "des.append(\"\"\"Rang Upvan in Surat is a beautiful botanical garden and park that offers a peaceful escape \n",
        "from the city's hustle and bustle. It provides a wide variety of flora, fauna, and recreational activities.\n",
        " It also has Musical fountain shows and bird watching.\"\"\")\n",
        "tags.append([\"Botanical Garden\", \"Recreational Activities\", \"Musical Fountain Shows\"])"
      ],
      "metadata": {
        "id": "Kj0NF9IBkJxn"
      },
      "execution_count": null,
      "outputs": []
    },
    {
      "cell_type": "code",
      "source": [
        "des.append(\"\"\"Tithal Beach is a beautiful and serene beach located near Valsad, about 80 km from Surat. The beach is known for its black sand and clear waters. Visitors can enjoy a leisurely walk on the beach, take a dip in the sea, or just relax and soak in the sun. There are also a few local food stalls offering delicious seafood. Its specialty lies in being a peaceful and less crowded beach destination.\"\"\")\n",
        "tags.append([\"Beach\", \"Relaxation\", \"Seafood\"])"
      ],
      "metadata": {
        "id": "Pa2msC6ekJzK"
      },
      "execution_count": null,
      "outputs": []
    },
    {
      "cell_type": "code",
      "source": [
        "des.append(\"\"\"Vansda National Park in Surat is a natural sanctuary that offers a glimpse of the region's diverse flora and fauna.\n",
        " It provides opportunities for wildlife safaris and nature walks.\n",
        " It is Home to rare and endangered species like the leopard cat and rusty spotted cat.\"\"\")\n",
        "tags.append( [\"National Park\", \"Wildlife Safaris\", \"Rare and Endangered Species\"])"
      ],
      "metadata": {
        "id": "cX4cMjU_kJ0Z"
      },
      "execution_count": null,
      "outputs": []
    },
    {
      "cell_type": "code",
      "source": [
        "des.append(\"\"\"Shantinath Digambar Jain Temple is a magnificent temple located in the heart of Surat. The temple is dedicated to Lord Shantinath, a revered Jain Tirthankara, and is known for its stunning architecture and intricate carvings. Visitors can offer prayers, admire the beautiful idols and decorations, and learn about Jainism. Its specialty lies in being an important religious and cultural landmark in Surat.\"\"\")\n",
        "tags.append([\"Temple\", \"Jainism\", \"Architecture\"])"
      ],
      "metadata": {
        "id": "S_bRgSRLkJ1t"
      },
      "execution_count": null,
      "outputs": []
    },
    {
      "cell_type": "code",
      "source": [
        "des.append(\"\"\"Science Centre Planetarium in Surat is an exciting destination for science enthusiasts. It provides interactive exhibits, educational programs, and a planetarium. Speciality: The planetarium offers a virtual tour of the night sky and live shows on various astronomy topics.\"\"\")\n",
        "tags.append([\"Science Centre\", \"Interactive Exhibits\", \"Planetarium and Astronomy Shows\"])"
      ],
      "metadata": {
        "id": "3eOfA_3xkJ4n"
      },
      "execution_count": null,
      "outputs": []
    },
    {
      "cell_type": "code",
      "source": [
        "des.append(\"\"\"The Happy Place is a fun-filled activity center located in Surat. The center offers a wide range of indoor and outdoor activities for all age groups, including virtual reality games, laser tag, bowling, go-karting, and more. Visitors can also enjoy delicious snacks and drinks at the in-house cafe. Its specialty lies in being a perfect place to spend quality time with family and friends \"\"\")\n",
        "tags.append( [\"Activity center\", \"Entertainment\", \"Family-friendly\"])"
      ],
      "metadata": {
        "id": "pRAea0uOkJ5x"
      },
      "execution_count": null,
      "outputs": []
    },
    {
      "cell_type": "code",
      "source": [
        "des.append(\"\"\"Suvali Beach in Surat is a scenic and serene beach that offers a peaceful getaway from the city. It provides stunning views of the Arabian Sea and opportunities for swimming and sunbathing. Speciality: Known for its black sand and picturesque sunsets.\"\"\")\n",
        "tags.append([\"Beach\", \"Sunbathing\", \"Black Sand\"])"
      ],
      "metadata": {
        "id": "5BnEshgjkJ7M"
      },
      "execution_count": null,
      "outputs": []
    },
    {
      "cell_type": "code",
      "source": [
        "des.append(\"\"\"Turtle Festival is an annual event held in the coastal town of Velas, Maharashtra. The festival is aimed at promoting conservation of the endangered Olive Ridley turtles that come to lay eggs on the beach. Visitors can witness the release of newly hatched turtles into the sea, attend educational workshops and seminars, and enjoy local food and cultural performances. Its specialty lies in being a unique and meaningful way to experience nature and contribute to wildlife conservation.\"\"\")\n",
        "tags.append( [\"Wildlife conservation\", \"Cultural festival\", \"Nature experience\"])"
      ],
      "metadata": {
        "id": "My2kiq3TkJ8n"
      },
      "execution_count": null,
      "outputs": []
    },
    {
      "cell_type": "code",
      "source": [
        "des.append(\"\"\"Sneh Rashmi Botanical Garden and Nature Library in Surat is a peaceful oasis in the heart of the city. It provides a wide variety of plants, trees, and green spaces for visitors to explore, as well as a nature library for education and research. It is Home to rare and exotic species like the Madagascar palm and the African tulip tree.\"\"\")\n",
        "tags.append([\"Botanical Garden\", \"Nature Library\", \"Rare and Exotic Species\"])"
      ],
      "metadata": {
        "id": "E63aeqIUkJ96"
      },
      "execution_count": null,
      "outputs": []
    },
    {
      "cell_type": "code",
      "source": [
        "des.append(\"\"\"Jagdishchandra Bose Garden in Surat is a charming park that offers a tranquil escape from the hustle and bustle of the city. It provides well-manicured gardens, walking paths, and a variety of trees and plants. Speciality: Features a musical fountain show in the evenings.\"\"\")\n",
        "tags.append([\"Park\", \"Tranquil Atmosphere\", \"Musical Fountain Show\"])"
      ],
      "metadata": {
        "id": "h35uxfgNkJ_V"
      },
      "execution_count": null,
      "outputs": []
    },
    {
      "cell_type": "code",
      "source": [
        "des.append(\"\"\"Bardoli Satyagraha Memorial in Surat is a tribute to the Indian freedom fighters who protested against the British salt tax. The memorial features a bronze statue of Mahatma Gandhi, an exhibition hall showcasing the history of the Satyagraha, and a library with books on India's independence movement. Visitors can learn about the significance of the Satyagraha, pay their respects to the martyrs, and explore the exhibits. Its specialty lies in being a reminder of India's struggle for freedom.\"\"\")\n",
        "tags.append( [\"Historical monument\", \"Indian independence movement\", \"Mahatma Gandhi\"])"
      ],
      "metadata": {
        "id": "wbXplonOkKAo"
      },
      "execution_count": null,
      "outputs": []
    },
    {
      "cell_type": "code",
      "source": [
        "des.append(\"\"\"Muglisara Lake in Surat is a serene waterbody surrounded by lush greenery. The lake offers a picturesque setting for a relaxing stroll or a picnic with family and friends. Visitors can also enjoy boating or take a walk on the walking track surrounding the lake. Its specialty lies in being a peaceful oasis in the midst of the bustling city of Surat.\"\"\")\n",
        "tags.append([\"Lake\", \"Picnic spot\", \"Boating\"])"
      ],
      "metadata": {
        "id": "1iJJBmAykKB7"
      },
      "execution_count": null,
      "outputs": []
    },
    {
      "cell_type": "code",
      "source": [
        "des.append(\"\"\"Harmony Icon in Surat is a modern shopping mall that offers a diverse range of retail outlets and dining options. It provides a comfortable and convenient shopping experience for visitors, with a variety of popular brands and entertainment options. Speciality: Known for its multiplex cinema and indoor amusement park.\"\"\")\n",
        "tags.append( [\"Shopping Mall\", \"Multiplex Cinema\",\"Indoor Amusement Park\"])"
      ],
      "metadata": {
        "id": "yVHoBVzKkKDj"
      },
      "execution_count": null,
      "outputs": []
    },
    {
      "cell_type": "code",
      "source": [
        "des.append(\"\"\"Kavi Narmad Central Library in Surat is a state-of-the-art facility that houses a vast collection of books, manuscripts, and other reference material. The library is named after Kavi Narmad, a renowned Gujarati poet, writer, and playwright. Visitors can browse through the books, use the reading room or access the digital resources available. Its specialty lies in being a hub of knowledge and a great resource for students, researchers, and book lovers alike. \"\"\")\n",
        "tags.append([\"Library\", \"Knowledge hub\", \"Reading room\"])"
      ],
      "metadata": {
        "id": "ECUr0BSEkKE6"
      },
      "execution_count": null,
      "outputs": []
    },
    {
      "cell_type": "code",
      "source": [
        "des.append(\"\"\"Ubharat Beach in Surat is a beautiful and pristine beach that offers a perfect weekend escape from the city. It provides a peaceful and serene environment for visitors to relax, with crystal-clear waters and soft sands. Speciality: Known for its scenic views, water sports activities, and delicious seafood\"\"\")\n",
        "tags.append([\"Beach\", \"Water Sports\",\"Seafood\"])"
      ],
      "metadata": {
        "id": "1IQxCGyQkKGP"
      },
      "execution_count": null,
      "outputs": []
    },
    {
      "cell_type": "code",
      "source": [
        "len(tags)"
      ],
      "metadata": {
        "colab": {
          "base_uri": "https://localhost:8080/"
        },
        "id": "1IU1S2hZIU-4",
        "outputId": "a89a286f-3d63-4680-f833-6d8cd6561445"
      },
      "execution_count": null,
      "outputs": [
        {
          "output_type": "execute_result",
          "data": {
            "text/plain": [
              "37"
            ]
          },
          "metadata": {},
          "execution_count": 42
        }
      ]
    },
    {
      "cell_type": "code",
      "source": [
        "des.append(\"\"\"The Gateway of India is a historic arch monument located in Mumbai, India. It was built to commemorate the visit of King George V and Queen Mary to Mumbai in 1911. The monument stands as a symbol of India's rich history and architectural heritage. Visitors can take a boat ride from the nearby harbour, or just enjoy the stunning view of the Arabian Sea. Its specialty lies in being an iconic landmark of Mumbai and a must-visit destination for tourists.\"\"\")\n",
        "tags.append([\"Monument\", \"Iconic Landmark\", \"Tourist attraction\"])"
      ],
      "metadata": {
        "id": "aLIWGI3ykKH0"
      },
      "execution_count": null,
      "outputs": []
    },
    {
      "cell_type": "code",
      "source": [
        "des.append(\"\"\"Chhatrapati Shivaji Terminus in Mumbai is a UNESCO World Heritage Site and one of the busiest railway stations in India. It is known for its impressive Victorian-Gothic architecture, featuring turrets, domes, and stained glass windows. Speciality: Serves as a hub for both local and long-distance trains, connecting Mumbai to various destinations across the country.\"\"\"\")\n",
        "tags.append([\"Railway Station\", \"UNESCO World Heritage Site\", \"Victorian-Gothic Architecture\"])"
      ],
      "metadata": {
        "id": "yZs5O3UhkKJS"
      },
      "execution_count": null,
      "outputs": []
    },
    {
      "cell_type": "code",
      "source": [
        "des.append(\"\"\"Marine Drive is a 3-kilometer-long promenade located in South Mumbai, India. It is also known as the \"Queen's Necklace\" due to its stunningly beautiful curved shape that resembles a string of pearls. The road winds along the Arabian Sea, offering a mesmerizing view of the sunset and the city skyline. Visitors can take a leisurely walk, enjoy the fresh sea breeze, or simply sit on the benches and watch the world go by. Its specialty lies in being a popular spot for evening walks and a great place to experience the pulse of Mumbai city.\n",
        "\n",
        "\"\"\")\n",
        "tags.append([\"Promenade\", \"Sunset view\", \"Cityscape\"])"
      ],
      "metadata": {
        "id": "tMQtN_AAkKK_"
      },
      "execution_count": null,
      "outputs": []
    },
    {
      "cell_type": "code",
      "source": [
        "des.append(\"\"\"Chowpatty Beach in Mumbai is a bustling and lively beach that offers a variety of activities and entertainment for visitors. It is known for its scenic views of the Arabian Sea and the iconic Marine Drive skyline. It Features street food stalls, cultural events, and religious celebrations, making it a hub of local culture and traditions.\"\"\")\n",
        "tags.append([\"Lively Beach\", \"Scenic Views\", \"Local Culture and Traditions\"])"
      ],
      "metadata": {
        "id": "Hd3Qi1P6kKMe"
      },
      "execution_count": null,
      "outputs": []
    },
    {
      "cell_type": "code",
      "source": [
        "des.append(\"\"\"Haji Ali Dargah is a mosque and tomb located on a small island off the coast of Mumbai, India. It is one of the most famous landmarks of Mumbai and attracts thousands of visitors every day. The structure is built in Indo-Islamic style, with intricate marble work and a white dome. Visitors can walk to the mosque during low tide, or take a ferry during high tide. Its specialty lies in being a significant religious site and a popular tourist destination in Mumbai.\"\"\")\n",
        "tags.append( [\"Mosque\", \"Indo Islamic structure\", \"Religious site\"])"
      ],
      "metadata": {
        "id": "QAM-5WR3kKPG"
      },
      "execution_count": null,
      "outputs": []
    },
    {
      "cell_type": "code",
      "source": [
        "des.append(\"\"\"Siddhivinayak Temple in Mumbai is a popular and revered Hindu temple dedicated to Lord Ganesha. It is known for its beautiful architecture, intricate carvings, and spiritual ambience that attracts thousands of devotees every day. Speciality: Home to one of the wealthiest Ganesh idols in the world, adorned with precious stones and gold.\"\"\")\n",
        "tags.append([\"Hindu Temple\", \"Lord Ganesha\", \"Wealthiest Ganesh Idol\"])"
      ],
      "metadata": {
        "id": "SKPckkrXkKRl"
      },
      "execution_count": null,
      "outputs": []
    },
    {
      "cell_type": "code",
      "source": [
        "des.append(\"\"\" \"\"\")\n",
        "tags.append()"
      ],
      "metadata": {
        "id": "_uhuKPhHkKS0"
      },
      "execution_count": null,
      "outputs": []
    },
    {
      "cell_type": "code",
      "source": [
        "des.append(\"\"\" \"\"\")\n",
        "tags.append()"
      ],
      "metadata": {
        "id": "UKppjmiKkKUJ"
      },
      "execution_count": null,
      "outputs": []
    },
    {
      "cell_type": "code",
      "source": [
        "des.append(\"\"\" \"\"\")\n",
        "tags.append()"
      ],
      "metadata": {
        "id": "DDOkFaO-kKVn"
      },
      "execution_count": null,
      "outputs": []
    },
    {
      "cell_type": "code",
      "source": [
        "des.append(\"\"\" \"\"\")\n",
        "tags.append()"
      ],
      "metadata": {
        "id": "_kujaLuskKXL"
      },
      "execution_count": null,
      "outputs": []
    },
    {
      "cell_type": "code",
      "source": [
        "des.append(\"\"\" \"\"\")\n",
        "tags.append()"
      ],
      "metadata": {
        "id": "GHtDymR3kKYu"
      },
      "execution_count": null,
      "outputs": []
    },
    {
      "cell_type": "code",
      "source": [
        "des.append(\"\"\" \"\"\")\n",
        "tags.append()"
      ],
      "metadata": {
        "id": "o2r8SvzfkKaG"
      },
      "execution_count": null,
      "outputs": []
    },
    {
      "cell_type": "code",
      "source": [
        "des.append(\"\"\" \"\"\")\n",
        "tags.append()"
      ],
      "metadata": {
        "id": "yrMSxSHvkKbc"
      },
      "execution_count": null,
      "outputs": []
    },
    {
      "cell_type": "code",
      "source": [
        "des.append(\"\"\" \"\"\")\n",
        "tags.append()"
      ],
      "metadata": {
        "id": "VvNIR5NkkKdA"
      },
      "execution_count": null,
      "outputs": []
    },
    {
      "cell_type": "code",
      "source": [
        "des.append(\"\"\" \"\"\")\n",
        "tags.append()"
      ],
      "metadata": {
        "id": "TOeWr0CRkKec"
      },
      "execution_count": null,
      "outputs": []
    },
    {
      "cell_type": "code",
      "source": [
        "des.append(\"\"\" \"\"\")\n",
        "tags.append()"
      ],
      "metadata": {
        "id": "oAHG68uOkKf3"
      },
      "execution_count": null,
      "outputs": []
    },
    {
      "cell_type": "code",
      "source": [
        "des.append(\"\"\" \"\"\")\n",
        "tags.append()"
      ],
      "metadata": {
        "id": "3wdQ_viPkKhd"
      },
      "execution_count": null,
      "outputs": []
    },
    {
      "cell_type": "code",
      "source": [
        "des.append(\"\"\" \"\"\")\n",
        "tags.append()"
      ],
      "metadata": {
        "id": "FZOwrZZbkKiy"
      },
      "execution_count": null,
      "outputs": []
    },
    {
      "cell_type": "code",
      "source": [
        "des.append(\"\"\" \"\"\")\n",
        "tags.append()"
      ],
      "metadata": {
        "id": "RVfdc80mkKkK"
      },
      "execution_count": null,
      "outputs": []
    },
    {
      "cell_type": "code",
      "source": [
        "des.append(\"\"\" \"\"\")\n",
        "tags.append()"
      ],
      "metadata": {
        "id": "GxFbMyb0kKlw"
      },
      "execution_count": null,
      "outputs": []
    },
    {
      "cell_type": "code",
      "source": [
        "des.append(\"\"\" \"\"\")\n",
        "tags.append()"
      ],
      "metadata": {
        "id": "lJ6mufMmkKnN"
      },
      "execution_count": null,
      "outputs": []
    },
    {
      "cell_type": "code",
      "source": [
        "des.append(\"\"\" \"\"\")\n",
        "tags.append()"
      ],
      "metadata": {
        "id": "trvVy-PqkKop"
      },
      "execution_count": null,
      "outputs": []
    },
    {
      "cell_type": "code",
      "source": [
        "des.append(\"\"\" \"\"\")\n",
        "tags.append()"
      ],
      "metadata": {
        "id": "Y0hp6G2XkKrf"
      },
      "execution_count": null,
      "outputs": []
    },
    {
      "cell_type": "code",
      "source": [
        "des.append(\"\"\" \"\"\")\n",
        "tags.append()"
      ],
      "metadata": {
        "id": "ouooTDmDkKte"
      },
      "execution_count": null,
      "outputs": []
    },
    {
      "cell_type": "code",
      "source": [
        "des.append(\"\"\" \"\"\")\n",
        "tags.append()"
      ],
      "metadata": {
        "id": "KJC6f7q6kKvF"
      },
      "execution_count": null,
      "outputs": []
    },
    {
      "cell_type": "code",
      "source": [
        "des.append(\"\"\" \"\"\")\n",
        "tags.append()"
      ],
      "metadata": {
        "id": "bxOC9VXAkKwi"
      },
      "execution_count": null,
      "outputs": []
    },
    {
      "cell_type": "code",
      "source": [
        "des.append(\"\"\" \"\"\")\n",
        "tags.append()"
      ],
      "metadata": {
        "id": "BDoBz5jMkKx_"
      },
      "execution_count": null,
      "outputs": []
    },
    {
      "cell_type": "code",
      "source": [
        "des.append(\"\"\" \"\"\")\n",
        "tags.append()"
      ],
      "metadata": {
        "id": "vVFhFNoOkKzv"
      },
      "execution_count": null,
      "outputs": []
    },
    {
      "cell_type": "code",
      "source": [
        "des.append(\"\"\" \"\"\")\n",
        "tags.append()"
      ],
      "metadata": {
        "id": "GTZdXk3ikK1H"
      },
      "execution_count": null,
      "outputs": []
    },
    {
      "cell_type": "code",
      "source": [
        "des.append(\"\"\" \"\"\")\n",
        "tags.append()"
      ],
      "metadata": {
        "id": "wjD--RzbkK2l"
      },
      "execution_count": null,
      "outputs": []
    },
    {
      "cell_type": "code",
      "source": [
        "des.append(\"\"\" \"\"\")\n",
        "tags.append()"
      ],
      "metadata": {
        "id": "07Zub9RWkK4N"
      },
      "execution_count": null,
      "outputs": []
    },
    {
      "cell_type": "code",
      "source": [
        "des.append(\"\"\" \"\"\")\n",
        "tags.append()"
      ],
      "metadata": {
        "id": "8_ihCY6akK56"
      },
      "execution_count": null,
      "outputs": []
    },
    {
      "cell_type": "code",
      "source": [
        "des.append(\"\"\" \"\"\")\n",
        "tags.append()"
      ],
      "metadata": {
        "id": "jwTC-5qskK7S"
      },
      "execution_count": null,
      "outputs": []
    },
    {
      "cell_type": "code",
      "source": [
        "des.append(\"\"\" \"\"\")\n",
        "tags.append()"
      ],
      "metadata": {
        "id": "hUaxubzbkK9D"
      },
      "execution_count": null,
      "outputs": []
    },
    {
      "cell_type": "code",
      "source": [
        "des.append(\"\"\" \"\"\")\n",
        "tags.append()"
      ],
      "metadata": {
        "id": "T8pgIbipkK-c"
      },
      "execution_count": null,
      "outputs": []
    },
    {
      "cell_type": "code",
      "source": [
        "des.append(\"\"\" \"\"\")\n",
        "tags.append()"
      ],
      "metadata": {
        "id": "qZj5ePo7kLAC"
      },
      "execution_count": null,
      "outputs": []
    },
    {
      "cell_type": "code",
      "source": [
        "des.append(\"\"\" \"\"\")\n",
        "tags.append()"
      ],
      "metadata": {
        "id": "Bo_uZziLkLBf"
      },
      "execution_count": null,
      "outputs": []
    },
    {
      "cell_type": "code",
      "source": [
        "des.append(\"\"\" \"\"\")\n",
        "tags.append()"
      ],
      "metadata": {
        "id": "VnygwrfCkLDI"
      },
      "execution_count": null,
      "outputs": []
    },
    {
      "cell_type": "code",
      "source": [
        "des.append(\"\"\" \"\"\")\n",
        "tags.append()"
      ],
      "metadata": {
        "id": "JUSMkb4YkLEs"
      },
      "execution_count": null,
      "outputs": []
    },
    {
      "cell_type": "code",
      "source": [
        "des.append(\"\"\" \"\"\")\n",
        "tags.append()"
      ],
      "metadata": {
        "id": "6N8rOqktkLGc"
      },
      "execution_count": null,
      "outputs": []
    },
    {
      "cell_type": "code",
      "source": [
        "des.append(\"\"\" \"\"\")\n",
        "tags.append()"
      ],
      "metadata": {
        "id": "Dz0GPOrMkLH9"
      },
      "execution_count": null,
      "outputs": []
    },
    {
      "cell_type": "code",
      "source": [
        "des.append(\"\"\" \"\"\")\n",
        "tags.append()"
      ],
      "metadata": {
        "id": "JTWOD7GvkLJe"
      },
      "execution_count": null,
      "outputs": []
    },
    {
      "cell_type": "code",
      "source": [
        "des.append(\"\"\" \"\"\")\n",
        "tags.append()"
      ],
      "metadata": {
        "id": "nk7dW7MnkLLG"
      },
      "execution_count": null,
      "outputs": []
    },
    {
      "cell_type": "code",
      "source": [
        "des.append(\"\"\" \"\"\")\n",
        "tags.append()"
      ],
      "metadata": {
        "id": "_u_TczeHkLMt"
      },
      "execution_count": null,
      "outputs": []
    },
    {
      "cell_type": "code",
      "source": [
        "des.append(\"\"\" \"\"\")\n",
        "tags.append()"
      ],
      "metadata": {
        "id": "JixuddfdkLON"
      },
      "execution_count": null,
      "outputs": []
    },
    {
      "cell_type": "code",
      "source": [
        "des.append(\"\"\" \"\"\")\n",
        "tags.append()"
      ],
      "metadata": {
        "id": "vCLwhOi0kLP5"
      },
      "execution_count": null,
      "outputs": []
    },
    {
      "cell_type": "code",
      "source": [
        "des.append(\"\"\" \"\"\")\n",
        "tags.append()"
      ],
      "metadata": {
        "id": "5Nx4eeyQkLRk"
      },
      "execution_count": null,
      "outputs": []
    },
    {
      "cell_type": "code",
      "source": [
        "des.append(\"\"\" \"\"\")\n",
        "tags.append()"
      ],
      "metadata": {
        "id": "nNcxK2IFkLTJ"
      },
      "execution_count": null,
      "outputs": []
    },
    {
      "cell_type": "code",
      "source": [
        "des.append(\"\"\" \"\"\")\n",
        "tags.append()"
      ],
      "metadata": {
        "id": "3fsJO4dOkLUs"
      },
      "execution_count": null,
      "outputs": []
    },
    {
      "cell_type": "code",
      "source": [
        "des.append(\"\"\" \"\"\")\n",
        "tags.append()"
      ],
      "metadata": {
        "id": "FdmhXaMEkLWf"
      },
      "execution_count": null,
      "outputs": []
    },
    {
      "cell_type": "code",
      "source": [
        "des.append(\"\"\" \"\"\")\n",
        "tags.append()"
      ],
      "metadata": {
        "id": "xrqBVGhOkLYE"
      },
      "execution_count": null,
      "outputs": []
    },
    {
      "cell_type": "code",
      "source": [
        "des.append(\"\"\" \"\"\")\n",
        "tags.append()"
      ],
      "metadata": {
        "id": "DVZ3EjDCkLZu"
      },
      "execution_count": null,
      "outputs": []
    },
    {
      "cell_type": "code",
      "source": [
        "des.append(\"\"\" \"\"\")\n",
        "tags.append()"
      ],
      "metadata": {
        "id": "skIfCorIkLbq"
      },
      "execution_count": null,
      "outputs": []
    },
    {
      "cell_type": "code",
      "source": [
        "des.append(\"\"\" \"\"\")\n",
        "tags.append()"
      ],
      "metadata": {
        "id": "NWYhjdUakLdS"
      },
      "execution_count": null,
      "outputs": []
    },
    {
      "cell_type": "code",
      "source": [
        "des.append(\"\"\" \"\"\")\n",
        "tags.append()"
      ],
      "metadata": {
        "id": "8Ptyqae6kLe5"
      },
      "execution_count": null,
      "outputs": []
    },
    {
      "cell_type": "code",
      "source": [
        "des.append(\"\"\" \"\"\")\n",
        "tags.append()"
      ],
      "metadata": {
        "id": "Z42Ud7SWkLgx"
      },
      "execution_count": null,
      "outputs": []
    },
    {
      "cell_type": "code",
      "source": [
        "des.append(\"\"\" \"\"\")\n",
        "tags.append()"
      ],
      "metadata": {
        "id": "hWZhhrHNkLiV"
      },
      "execution_count": null,
      "outputs": []
    },
    {
      "cell_type": "code",
      "source": [
        "des.append(\"\"\" \"\"\")\n",
        "tags.append()"
      ],
      "metadata": {
        "id": "-jyHUJX8kLkA"
      },
      "execution_count": null,
      "outputs": []
    },
    {
      "cell_type": "code",
      "source": [
        "des.append(\"\"\" \"\"\")\n",
        "tags.append()"
      ],
      "metadata": {
        "id": "9iUAekU3kLl0"
      },
      "execution_count": null,
      "outputs": []
    },
    {
      "cell_type": "code",
      "source": [
        "des.append(\"\"\" \"\"\")\n",
        "tags.append()"
      ],
      "metadata": {
        "id": "DeXsdr5wkLne"
      },
      "execution_count": null,
      "outputs": []
    },
    {
      "cell_type": "code",
      "source": [
        "des.append(\"\"\" \"\"\")\n",
        "tags.append()"
      ],
      "metadata": {
        "id": "AZ0rjqYDkLpB"
      },
      "execution_count": null,
      "outputs": []
    },
    {
      "cell_type": "code",
      "source": [
        "des.append(\"\"\" \"\"\")\n",
        "tags.append()"
      ],
      "metadata": {
        "id": "aPirzXXskLq5"
      },
      "execution_count": null,
      "outputs": []
    },
    {
      "cell_type": "code",
      "source": [
        "des.append(\"\"\" \"\"\")\n",
        "tags.append()"
      ],
      "metadata": {
        "id": "tHxBRBL-kLsd"
      },
      "execution_count": null,
      "outputs": []
    },
    {
      "cell_type": "code",
      "source": [
        "des.append(\"\"\" \"\"\")\n",
        "tags.append()"
      ],
      "metadata": {
        "id": "at2_S1FJkLwp"
      },
      "execution_count": null,
      "outputs": []
    },
    {
      "cell_type": "code",
      "source": [
        "des.append(\"\"\" \"\"\")\n",
        "tags.append()"
      ],
      "metadata": {
        "id": "HlCizcH3kLyb"
      },
      "execution_count": null,
      "outputs": []
    },
    {
      "cell_type": "code",
      "source": [
        "des.append(\"\"\" \"\"\")\n",
        "tags.append()"
      ],
      "metadata": {
        "id": "H5svX241kL0m"
      },
      "execution_count": null,
      "outputs": []
    },
    {
      "cell_type": "code",
      "source": [
        "des.append(\"\"\" \"\"\")\n",
        "tags.append()"
      ],
      "metadata": {
        "id": "tun8_pKbkL2N"
      },
      "execution_count": null,
      "outputs": []
    },
    {
      "cell_type": "code",
      "source": [
        "des.append(\"\"\" \"\"\")\n",
        "tags.append()"
      ],
      "metadata": {
        "id": "47jdb10OkL4G"
      },
      "execution_count": null,
      "outputs": []
    },
    {
      "cell_type": "code",
      "source": [
        "des.append(\"\"\" \"\"\")\n",
        "tags.append()"
      ],
      "metadata": {
        "id": "bqNo8tdakL53"
      },
      "execution_count": null,
      "outputs": []
    },
    {
      "cell_type": "code",
      "source": [
        "des.append(\"\"\" \"\"\")\n",
        "tags.append()"
      ],
      "metadata": {
        "id": "wXdmqlJjkL7f"
      },
      "execution_count": null,
      "outputs": []
    },
    {
      "cell_type": "code",
      "source": [
        "des.append(\"\"\" \"\"\")\n",
        "tags.append()"
      ],
      "metadata": {
        "id": "4NcToSObkL9W"
      },
      "execution_count": null,
      "outputs": []
    },
    {
      "cell_type": "code",
      "source": [
        "des.append(\"\"\" \"\"\")\n",
        "tags.append()"
      ],
      "metadata": {
        "id": "LPROKmUwkL-_"
      },
      "execution_count": null,
      "outputs": []
    },
    {
      "cell_type": "code",
      "source": [
        "des.append(\"\"\" \"\"\")\n",
        "tags.append()"
      ],
      "metadata": {
        "id": "fm0P-Ku8kMAp"
      },
      "execution_count": null,
      "outputs": []
    },
    {
      "cell_type": "code",
      "source": [
        "des.append(\"\"\" \"\"\")\n",
        "tags.append()"
      ],
      "metadata": {
        "id": "Z0y9DYSLkMCr"
      },
      "execution_count": null,
      "outputs": []
    },
    {
      "cell_type": "code",
      "source": [
        "des.append(\"\"\" \"\"\")\n",
        "tags.append()"
      ],
      "metadata": {
        "id": "qq36gbkgkMEa"
      },
      "execution_count": null,
      "outputs": []
    },
    {
      "cell_type": "code",
      "source": [
        "des.append(\"\"\" \"\"\")\n",
        "tags.append()"
      ],
      "metadata": {
        "id": "gnvfrd71kMGH"
      },
      "execution_count": null,
      "outputs": []
    },
    {
      "cell_type": "code",
      "source": [
        "des.append(\"\"\" \"\"\")\n",
        "tags.append()"
      ],
      "metadata": {
        "id": "fuoBISmBkMIC"
      },
      "execution_count": null,
      "outputs": []
    },
    {
      "cell_type": "code",
      "source": [
        "des.append(\"\"\" \"\"\")\n",
        "tags.append()"
      ],
      "metadata": {
        "id": "fgT7b4f1kMJu"
      },
      "execution_count": null,
      "outputs": []
    },
    {
      "cell_type": "code",
      "source": [
        "des.append(\"\"\" \"\"\")\n",
        "tags.append()"
      ],
      "metadata": {
        "id": "9tOoGn_IkMMc"
      },
      "execution_count": null,
      "outputs": []
    },
    {
      "cell_type": "code",
      "source": [
        "des.append(\"\"\" \"\"\")\n",
        "tags.append()"
      ],
      "metadata": {
        "id": "x7oJ7-6ukMOY"
      },
      "execution_count": null,
      "outputs": []
    },
    {
      "cell_type": "code",
      "source": [
        "des.append(\"\"\" \"\"\")\n",
        "tags.append()"
      ],
      "metadata": {
        "id": "QdhfbNcFkMQK"
      },
      "execution_count": null,
      "outputs": []
    },
    {
      "cell_type": "code",
      "source": [
        "des.append(\"\"\" \"\"\")\n",
        "tags.append()"
      ],
      "metadata": {
        "id": "gwyukQr9kMSG"
      },
      "execution_count": null,
      "outputs": []
    },
    {
      "cell_type": "code",
      "source": [
        "des.append(\"\"\" \"\"\")\n",
        "tags.append()"
      ],
      "metadata": {
        "id": "LxBIVYPVkMT_"
      },
      "execution_count": null,
      "outputs": []
    },
    {
      "cell_type": "code",
      "source": [
        "des.append(\"\"\" \"\"\")\n",
        "tags.append()"
      ],
      "metadata": {
        "id": "8czNFS5AkMVt"
      },
      "execution_count": null,
      "outputs": []
    },
    {
      "cell_type": "code",
      "source": [
        "des.append(\"\"\" \"\"\")\n",
        "tags.append()"
      ],
      "metadata": {
        "id": "JNLrVPmXkMXd"
      },
      "execution_count": null,
      "outputs": []
    },
    {
      "cell_type": "code",
      "source": [
        "des.append(\"\"\" \"\"\")\n",
        "tags.append()"
      ],
      "metadata": {
        "id": "WcpiM2MnkMZf"
      },
      "execution_count": null,
      "outputs": []
    },
    {
      "cell_type": "code",
      "source": [
        "des.append(\"\"\" \"\"\")\n",
        "tags.append()"
      ],
      "metadata": {
        "id": "DCkPRjAnkMbO"
      },
      "execution_count": null,
      "outputs": []
    },
    {
      "cell_type": "code",
      "source": [
        "des.append(\"\"\" \"\"\")\n",
        "tags.append()"
      ],
      "metadata": {
        "id": "I0f-j25ekMc-"
      },
      "execution_count": null,
      "outputs": []
    },
    {
      "cell_type": "code",
      "source": [
        "des.append(\"\"\" \"\"\")\n",
        "tags.append()"
      ],
      "metadata": {
        "id": "xi17qzYzkMe-"
      },
      "execution_count": null,
      "outputs": []
    },
    {
      "cell_type": "code",
      "source": [
        "des.append(\"\"\" \"\"\")\n",
        "tags.append()"
      ],
      "metadata": {
        "id": "JzNYY7RLkMgy"
      },
      "execution_count": null,
      "outputs": []
    },
    {
      "cell_type": "code",
      "source": [
        "des.append(\"\"\" \"\"\")\n",
        "tags.append()"
      ],
      "metadata": {
        "id": "BAQg-8cUkMit"
      },
      "execution_count": null,
      "outputs": []
    },
    {
      "cell_type": "code",
      "source": [
        "des.append(\"\"\" \"\"\")\n",
        "tags.append()"
      ],
      "metadata": {
        "id": "oZ-c67LYkMks"
      },
      "execution_count": null,
      "outputs": []
    },
    {
      "cell_type": "code",
      "source": [
        "des.append(\"\"\" \"\"\")\n",
        "tags.append()"
      ],
      "metadata": {
        "id": "W5L6nVfSkMmt"
      },
      "execution_count": null,
      "outputs": []
    },
    {
      "cell_type": "code",
      "source": [
        "des.append(\"\"\" \"\"\")\n",
        "tags.append()"
      ],
      "metadata": {
        "id": "5rgT4y2CkMof"
      },
      "execution_count": null,
      "outputs": []
    },
    {
      "cell_type": "code",
      "source": [
        "des.append(\"\"\" \"\"\")\n",
        "tags.append()"
      ],
      "metadata": {
        "id": "FngRVo_KkMqo"
      },
      "execution_count": null,
      "outputs": []
    },
    {
      "cell_type": "code",
      "source": [
        "des.append(\"\"\" \"\"\")\n",
        "tags.append()"
      ],
      "metadata": {
        "id": "vSVVpuvHkMsn"
      },
      "execution_count": null,
      "outputs": []
    },
    {
      "cell_type": "code",
      "source": [
        "des.append(\"\"\" \"\"\")\n",
        "tags.append()"
      ],
      "metadata": {
        "id": "s4F0ryynkMus"
      },
      "execution_count": null,
      "outputs": []
    },
    {
      "cell_type": "code",
      "source": [
        "des.append(\"\"\" \"\"\")\n",
        "tags.append()"
      ],
      "metadata": {
        "id": "uUPiRj6CkMwl"
      },
      "execution_count": null,
      "outputs": []
    },
    {
      "cell_type": "code",
      "source": [
        "des.append(\"\"\" \"\"\")\n",
        "tags.append()"
      ],
      "metadata": {
        "id": "5EiFQWv1kMyq"
      },
      "execution_count": null,
      "outputs": []
    },
    {
      "cell_type": "code",
      "source": [
        "des.append(\"\"\" \"\"\")\n",
        "tags.append()"
      ],
      "metadata": {
        "id": "ZX_WKBFYkM0x"
      },
      "execution_count": null,
      "outputs": []
    },
    {
      "cell_type": "code",
      "source": [
        "des.append(\"\"\" \"\"\")\n",
        "tags.append()"
      ],
      "metadata": {
        "id": "esU6ueQvkM26"
      },
      "execution_count": null,
      "outputs": []
    },
    {
      "cell_type": "code",
      "source": [
        "des.append(\"\"\" \"\"\")\n",
        "tags.append()"
      ],
      "metadata": {
        "id": "WyyoZ5f5kM5B"
      },
      "execution_count": null,
      "outputs": []
    },
    {
      "cell_type": "code",
      "source": [
        "des.append(\"\"\" \"\"\")\n",
        "tags.append()"
      ],
      "metadata": {
        "id": "uJQBZoaMkM69"
      },
      "execution_count": null,
      "outputs": []
    },
    {
      "cell_type": "code",
      "source": [
        "des.append(\"\"\" \"\"\")\n",
        "tags.append()"
      ],
      "metadata": {
        "id": "x2P25ONSkM86"
      },
      "execution_count": null,
      "outputs": []
    },
    {
      "cell_type": "code",
      "source": [
        "des.append(\"\"\" \"\"\")\n",
        "tags.append()"
      ],
      "metadata": {
        "id": "pGpM4hrmkM_C"
      },
      "execution_count": null,
      "outputs": []
    },
    {
      "cell_type": "code",
      "source": [
        "des.append(\"\"\" \"\"\")\n",
        "tags.append()"
      ],
      "metadata": {
        "id": "onEXrSeWkNBF"
      },
      "execution_count": null,
      "outputs": []
    },
    {
      "cell_type": "code",
      "source": [
        "des.append(\"\"\" \"\"\")\n",
        "tags.append()"
      ],
      "metadata": {
        "id": "KiGyoM1rkNDG"
      },
      "execution_count": null,
      "outputs": []
    },
    {
      "cell_type": "code",
      "source": [
        "des.append(\"\"\" \"\"\")\n",
        "tags.append()"
      ],
      "metadata": {
        "id": "DhES9jvMkNFG"
      },
      "execution_count": null,
      "outputs": []
    },
    {
      "cell_type": "code",
      "source": [
        "des.append(\"\"\" \"\"\")\n",
        "tags.append()"
      ],
      "metadata": {
        "id": "PLOXCL6IkNHG"
      },
      "execution_count": null,
      "outputs": []
    },
    {
      "cell_type": "code",
      "source": [
        "des.append(\"\"\" \"\"\")\n",
        "tags.append()"
      ],
      "metadata": {
        "id": "84gWhLi4kNJN"
      },
      "execution_count": null,
      "outputs": []
    },
    {
      "cell_type": "code",
      "source": [
        "des.append(\"\"\" \"\"\")\n",
        "tags.append()"
      ],
      "metadata": {
        "id": "sEuoqxGckNLb"
      },
      "execution_count": null,
      "outputs": []
    },
    {
      "cell_type": "code",
      "source": [
        "des.append(\"\"\" \"\"\")\n",
        "tags.append()"
      ],
      "metadata": {
        "id": "TPYbcha1kNNh"
      },
      "execution_count": null,
      "outputs": []
    },
    {
      "cell_type": "code",
      "source": [
        "des.append(\"\"\" \"\"\")\n",
        "tags.append()"
      ],
      "metadata": {
        "id": "gnV2038mkNPi"
      },
      "execution_count": null,
      "outputs": []
    },
    {
      "cell_type": "code",
      "source": [
        "des.append(\"\"\" \"\"\")\n",
        "tags.append()"
      ],
      "metadata": {
        "id": "liflU9MJkNR0"
      },
      "execution_count": null,
      "outputs": []
    },
    {
      "cell_type": "code",
      "source": [
        "des.append(\"\"\" \"\"\")\n",
        "tags.append()"
      ],
      "metadata": {
        "id": "3ShdoaRUkNTx"
      },
      "execution_count": null,
      "outputs": []
    },
    {
      "cell_type": "code",
      "source": [
        "des.append(\"\"\" \"\"\")\n",
        "tags.append()"
      ],
      "metadata": {
        "id": "rQ1QWqOZkNV4"
      },
      "execution_count": null,
      "outputs": []
    },
    {
      "cell_type": "code",
      "source": [
        "des.append(\"\"\" \"\"\")\n",
        "tags.append()"
      ],
      "metadata": {
        "id": "8fhz3AHWkNYW"
      },
      "execution_count": null,
      "outputs": []
    },
    {
      "cell_type": "code",
      "source": [
        "des.append(\"\"\" \"\"\")\n",
        "tags.append()"
      ],
      "metadata": {
        "id": "O9DbnIk3kNaY"
      },
      "execution_count": null,
      "outputs": []
    },
    {
      "cell_type": "code",
      "source": [
        "des.append(\"\"\" \"\"\")\n",
        "tags.append()"
      ],
      "metadata": {
        "id": "tYBoe6zLkNcY"
      },
      "execution_count": null,
      "outputs": []
    },
    {
      "cell_type": "code",
      "source": [
        "des.append(\"\"\" \"\"\")\n",
        "tags.append()"
      ],
      "metadata": {
        "id": "x-SmHnF5kNef"
      },
      "execution_count": null,
      "outputs": []
    },
    {
      "cell_type": "code",
      "source": [
        "des.append(\"\"\" \"\"\")\n",
        "tags.append()"
      ],
      "metadata": {
        "id": "nvHMgtgxkNgg"
      },
      "execution_count": null,
      "outputs": []
    },
    {
      "cell_type": "code",
      "source": [
        "des.append(\"\"\" \"\"\")\n",
        "tags.append()"
      ],
      "metadata": {
        "id": "-a9HoS6WkNim"
      },
      "execution_count": null,
      "outputs": []
    },
    {
      "cell_type": "code",
      "source": [
        "des.append(\"\"\" \"\"\")\n",
        "tags.append()"
      ],
      "metadata": {
        "id": "UNvudx0LkNkq"
      },
      "execution_count": null,
      "outputs": []
    },
    {
      "cell_type": "code",
      "source": [
        "des.append(\"\"\" \"\"\")\n",
        "tags.append()"
      ],
      "metadata": {
        "id": "m7PSGKPikNmt"
      },
      "execution_count": null,
      "outputs": []
    },
    {
      "cell_type": "code",
      "source": [
        "des.append(\"\"\" \"\"\")\n",
        "tags.append()"
      ],
      "metadata": {
        "id": "v9posZGvkNo7"
      },
      "execution_count": null,
      "outputs": []
    },
    {
      "cell_type": "code",
      "source": [
        "des.append(\"\"\" \"\"\")\n",
        "tags.append()"
      ],
      "metadata": {
        "id": "jMBx2HvNkNrB"
      },
      "execution_count": null,
      "outputs": []
    },
    {
      "cell_type": "code",
      "source": [
        "des.append(\"\"\" \"\"\")\n",
        "tags.append()"
      ],
      "metadata": {
        "id": "BaxV2uO1kNtA"
      },
      "execution_count": null,
      "outputs": []
    },
    {
      "cell_type": "code",
      "source": [
        "des.append(\"\"\" \"\"\")\n",
        "tags.append()"
      ],
      "metadata": {
        "id": "hL8f0wk_kNvM"
      },
      "execution_count": null,
      "outputs": []
    },
    {
      "cell_type": "code",
      "source": [
        "des.append(\"\"\" \"\"\")\n",
        "tags.append()"
      ],
      "metadata": {
        "id": "RqHXfVFFkNxT"
      },
      "execution_count": null,
      "outputs": []
    },
    {
      "cell_type": "code",
      "source": [
        "des.append(\"\"\" \"\"\")\n",
        "tags.append()"
      ],
      "metadata": {
        "id": "KsbAWKHWkNzj"
      },
      "execution_count": null,
      "outputs": []
    }
  ]
}