{
  "nbformat": 4,
  "nbformat_minor": 0,
  "metadata": {
    "colab": {
      "provenance": [],
      "authorship_tag": "ABX9TyNNc0Qxkh4K51aj6/AWlCQn",
      "include_colab_link": true
    },
    "kernelspec": {
      "name": "python3",
      "display_name": "Python 3"
    },
    "language_info": {
      "name": "python"
    }
  },
  "cells": [
    {
      "cell_type": "markdown",
      "metadata": {
        "id": "view-in-github",
        "colab_type": "text"
      },
      "source": [
        "<a href=\"https://colab.research.google.com/github/ChaitaliV/Location-Extractor/blob/main/data_collection.ipynb\" target=\"_parent\"><img src=\"https://colab.research.google.com/assets/colab-badge.svg\" alt=\"Open In Colab\"/></a>"
      ]
    },
    {
      "cell_type": "code",
      "execution_count": 1,
      "metadata": {
        "id": "L8ch4RuMOOPJ"
      },
      "outputs": [],
      "source": [
        "import pandas as pd"
      ]
    },
    {
      "cell_type": "code",
      "source": [
        "text = []"
      ],
      "metadata": {
        "id": "tMLxayq89V4Y"
      },
      "execution_count": 2,
      "outputs": []
    },
    {
      "cell_type": "code",
      "source": [
        "def sep_hash(para):\n",
        "  l = para.split(\"#\")\n",
        "  for i in range (0,len(l)):\n",
        "    place = []\n",
        "    text.append(l[i])\n",
        "    \n",
        "def sep_new_line(para):\n",
        "  l = para.split('\\n')\n",
        "  for i in range (0,len(l)):\n",
        "    l[i]=l[i].replace('#','')\n",
        "    text.append(l[i])\n",
        "\n",
        "def add_city(para,city,sep):\n",
        "  l = para.split(sep)\n",
        "  for i in range (0,len(l)):\n",
        "    l[i]=l[i].replace('#','')\n",
        "    text.append(l[i]+', '+city)\n"
      ],
      "metadata": {
        "id": "rliLGcuKCKQo"
      },
      "execution_count": null,
      "outputs": []
    },
    {
      "cell_type": "code",
      "source": [],
      "metadata": {
        "id": "l_6Xu62sIwU1"
      },
      "execution_count": null,
      "outputs": []
    }
  ]
}