{
  "nbformat": 4,
  "nbformat_minor": 0,
  "metadata": {
    "colab": {
      "provenance": [],
      "authorship_tag": "ABX9TyO2dxJN0bt4BZgqIqOZMPkQ",
      "include_colab_link": true
    },
    "kernelspec": {
      "name": "python3",
      "display_name": "Python 3"
    },
    "language_info": {
      "name": "python"
    }
  },
  "cells": [
    {
      "cell_type": "markdown",
      "metadata": {
        "id": "view-in-github",
        "colab_type": "text"
      },
      "source": [
        "<a href=\"https://colab.research.google.com/github/ChaitaliV/Location-Extractor/blob/main/Untitled2.ipynb\" target=\"_parent\"><img src=\"https://colab.research.google.com/assets/colab-badge.svg\" alt=\"Open In Colab\"/></a>"
      ]
    },
    {
      "cell_type": "code",
      "source": [
        "import pandas as pd"
      ],
      "metadata": {
        "id": "uK0vqQpVZje5"
      },
      "execution_count": 1,
      "outputs": []
    },
    {
      "cell_type": "code",
      "source": [
        "text = []\n",
        "name = []"
      ],
      "metadata": {
        "id": "RUn_-tSnZjb7"
      },
      "execution_count": 2,
      "outputs": []
    },
    {
      "cell_type": "code",
      "source": [
        "text.append(\"\"\"Gateway of India, Marine Drive, Juhu Beach, Siddhivinayak Temple, Haji Ali Dargah, Elephanta Caves, Chhatrapati Shivaji Terminus, Bandra-Worli Sea Link, Colaba Causeway, Chor Bazaar, Mount Mary Church, Sanjay Gandhi National Park, Nariman Point, Crawford Market, Rajabai Clock Tower, EsselWorld, Nehru Planetarium, Jehangir Art Gallery, Worli Fort, Kamala Nehru Park, Global Vipassana Pagoda, Powai Lake, Mumba Devi Temple, Dr. Bhau Daji Lad Museum, Chhatrapati Shivaji Maharaj Vastu Sangrahalaya, Mani Bhavan Gandhi Museum, Jijamata Udyaan, Veermata Jijabai Bhosale Udyan, Prithvi Theatre. \"\"\")\n",
        "name.append(['Gateway of India', 'Marine Drive', 'Juhu Beach', 'Siddhivinayak Temple', 'Haji Ali Dargah', 'Elephanta Caves', 'Chhatrapati Shivaji Terminus', 'Bandra-Worli Sea Link', 'Colaba Causeway', 'Chor Bazaar', 'Mount Mary Church', 'Sanjay Gandhi National Park', 'Nariman Point', 'Crawford Market', 'Rajabai Clock Tower', 'EsselWorld', 'Nehru Planetarium', 'Jehangir Art Gallery', 'Worli Fort', 'Kamala Nehru Park', 'Global Vipassana Pagoda', 'Powai Lake', 'Mumba Devi Temple', 'Dr. Bhau Daji Lad Museum', 'Chhatrapati Shivaji Maharaj Vastu Sangrahalaya', 'Mani Bhavan Gandhi Museum', 'Jijamata Udyaan', 'Veermata Jijabai Bhosale Udyan', 'Prithvi Theatre'])"
      ],
      "metadata": {
        "id": "JvWfkCf4VgCr"
      },
      "execution_count": null,
      "outputs": []
    },
    {
      "cell_type": "code",
      "source": [
        "text.append(\"\"\"India Gate, Red Fort, Qutub Minar, Lotus Temple, Jama Masjid, Humayun's Tomb, Akshardham Temple, Chandni Chowk, Raj Ghat, Gurudwara Bangla Sahib, National Museum, Nehru Planetarium, Jantar Mantar, Rashtrapati Bhavan, Parliament House, ISKCON Temple, Laxminarayan Temple, Dilli Haat, Connaught Place, Hauz Khas Village, Khan Market, Sarojini Nagar Market, Lajpat Nagar Market, Janpath Market, Karim's, Pandara Road, Pragati Maidan, DLF Emporio, Select Citywalk, Ambience Mall.\"\"\")\n",
        "name.append(['India Gate', 'Red Fort', 'Qutub Minar', 'Lotus Temple', 'Jama Masjid', 'Humayun\\'s Tomb', 'Akshardham Temple', 'Chandni Chowk', 'Raj Ghat', 'Gurudwara Bangla Sahib', 'National Museum', 'Nehru Planetarium', 'Jantar Mantar', 'Rashtrapati Bhavan', 'Parliament House', 'ISKCON Temple', 'Laxminarayan Temple', 'Dilli Haat', 'Connaught Place', 'Hauz Khas Village', 'Khan Market', 'Sarojini Nagar Market', 'Lajpat Nagar Market', 'Janpath Market', 'Karim\\'s', 'Pandara Road', 'Pragati Maidan', 'DLF Emporio', 'Select Citywalk', 'Ambience Mall'])"
      ],
      "metadata": {
        "id": "bKXrD1-EVgEQ"
      },
      "execution_count": null,
      "outputs": []
    },
    {
      "cell_type": "code",
      "source": [
        "text.append(\"\"\"Lalbagh Botanical Garden, Cubbon Park, Bangalore Palace, ISKCON Temple, Vidhana Soudha, Tipu Sultan's Summer Palace, Bannerghatta National Park, Wonderla Amusement Park, UB City, Phoenix Marketcity, Orion Mall, Commercial Street, Brigade Road, M.G. Road, Mantri Square, Garuda Mall, Inorbit Mall, Gopalan Mall, Royal Meenakshi Mall, The Forum, PVR Cinemas, Innovative Film City, Chunchi Falls, Nandi Hills, Rangoli Metro Art Center, Bangalore Fort, St. Mary's Basilica, Jawaharlal Nehru Planetarium, National Gallery of Modern Art, Visvesvaraya Industrial and Technological Museum, Karnataka Chitrakala Parishath, HAL Aerospace Museum, Indian Music Experience, Museum of Folk and Tribal Art, Venkatappa Art Gallery, Art Houz, Gallery Sumukha, Tasveer, Mahua Art Gallery, Gallery Third Eye, Crimson Art Gallery, Apparao Galleries, Artflute, Sublime Galleria, Galleryske \"\"\")\n",
        "name.append(['Lalbagh Botanical Garden', 'Cubbon Park', 'Bangalore Palace', 'ISKCON Temple', 'Vidhana Soudha',                     \"Tipu Sultan's Summer Palace\", 'Bannerghatta National Park', 'Wonderla Amusement Park', 'UB City', 'Phoenix Marketcity', 'Orion Mall', 'Commercial Street', 'Brigade Road', 'M.G. Road', 'Mantri Square',                     'Garuda Mall', 'Inorbit Mall', 'Gopalan Mall', 'Royal Meenakshi Mall', 'The Forum', 'PVR Cinemas',                     'Innovative Film City', 'Chunchi Falls', 'Nandi Hills', 'Rangoli Metro Art Center', 'Bangalore Fort', \"St. Mary's Basilica\", 'Jawaharlal Nehru Planetarium', 'National Gallery of Modern Art',                     'Visvesvaraya Industrial and Technological Museum', 'Karnataka Chitrakala Parishath', 'HAL Aerospace Museum',                     'Indian Music Experience', 'Museum of Folk and Tribal Art', 'Venkatappa Art Gallery', 'Art Houz', 'Gallery Sumukha', 'Tasveer', 'Mahua Art Gallery', 'Gallery Third Eye', 'Crimson Art Gallery', 'Apparao Galleries', 'Artflute', 'Sublime Galleria', 'Galleryske'])"
      ],
      "metadata": {
        "id": "nxgJAjPNVgGj"
      },
      "execution_count": null,
      "outputs": []
    },
    {
      "cell_type": "code",
      "source": [
        "text.append(\"\"\"Eiffel Tower, Louvre Museum, Notre-Dame Cathedral, Arc de Triomphe, Palace of Versailles, Champs-Élysées, Musée d'Orsay, Sainte-Chapelle, Centre Georges Pompidou, Panthéon, Luxembourg Gardens, Catacombs of Paris, Musée Rodin, Place de la Concorde, Opéra Garnier, Musée de l'Orangerie, Les Invalides, Sacré-Cœur Basilica, Musée Picasso, Jardin des Tuileries, Place des Vosges, Musée de l'Armée, Pont Neuf, Île de la Cité, Musée Carnavalet, Grand Palais, Petit Palais, Musée National d'Art Moderne, Musée du quai Branly - Jacques Chirac.\n",
        "\n",
        " \"\"\")\n",
        "name.append([\"Eiffel Tower\", \"Louvre Museum\", \"Notre-Dame Cathedral\", \"Arc de Triomphe\", \"Palace of Versailles\",  \"Champs-Élysées\", \"Musée d'Orsay\", \"Sainte-Chapelle\", \"Centre Georges Pompidou\", \"Panthéon\", \"Luxembourg Gardens\", \"Catacombs of Paris\", \"Musée Rodin\", \"Place de la Concorde\", \"Opéra Garnier\", \"Musée de l'Orangerie\", \"Les Invalides\", \"Sacré-Cœur Basilica\", \"Musée Picasso\", \"Jardin des Tuileries\", \"Place des Vosges\", \"Musée de l'Armée\", \"Pont Neuf\", \"Île de la Cité\", \"Musée Carnavalet\",          \"Grand Palais\", \"Petit Palais\", \"Musée National d'Art Moderne\", \"Musée du quai Branly - Jacques Chirac\"])"
      ],
      "metadata": {
        "id": "dOLVgJvEVgJI"
      },
      "execution_count": null,
      "outputs": []
    },
    {
      "cell_type": "code",
      "source": [
        "text.append(\"\"\"Le Louis XV - Alain Ducasse à l'Hôtel de Paris\n",
        "Blue Bay\n",
        "La Marée\n",
        "Le Grill\n",
        "Yoshi\n",
        "La Trattoria\n",
        "\n",
        "\n",
        "\n",
        "\n",
        "Chaitali\n",
        "give me list of restaurants in monaco seperated by comma and then a python list containing all the places mentioned in list\n",
        "Sure, here's a list of 30 restaurants in Monaco separated by comma and a Python list containing all the names:\n",
        "\n",
        "Le Louis XV - Alain Ducasse à l'Hôtel de Paris, La Salle Empire\n",
        "Blue Bay\n",
        "Rampoldi\n",
        "Joël Robuchon Monte-Carlo\n",
        "Buddha-Bar Monte-Carlo\n",
        "Le Grill\n",
        "Le Vistamar\n",
        "La Marée\n",
        "Le Train Bleu\n",
        "La Trattoria\n",
        "Il Terrazzino\n",
        "Cipriani Monte Carlo\n",
        "Maya Bay\n",
        "L'Argentin Monte Carlo\n",
        "L'Hirondelle\n",
        "Le Bistroquet\n",
        "Beefbar Monaco\n",
        "Quai des Artistes\n",
        "Twiga Monte Carlo\n",
        "Avenue 31\n",
        "Yoshi\n",
        "La Piazza\n",
        "Sass Café\n",
        "La Salière\n",
        "Song Qi\n",
        "La Table de Marcel\n",
        "La Vigie Lounge & Restaurant\n",
        "Elsa\n",
        "Café de Paris Monte-Carlo\n",
        "La Coupole \"\"\")\n",
        "name.append(['Le Louis XV - Alain Ducasse à l\\'Hôtel de Paris, La Salle Empire', 'Blue Bay', 'Rampoldi', 'Joël Robuchon Monte-Carlo', 'Buddha-Bar Monte-Carlo', 'Le Grill', 'Le Vistamar', 'La Marée', 'Le Train Bleu', 'La Trattoria', 'Il Terrazzino', 'Cipriani Monte Carlo', 'Maya Bay', 'L\\'Argentin Monte Carlo', 'L\\'Hirondelle', 'Le Bistroquet', 'Beefbar Monaco', 'Quai des Artistes', 'Twiga Monte Carlo', 'Avenue 31', 'Yoshi', 'La Piazza', 'Sass Café', 'La Salière', 'Song Qi', 'La Table de Marcel', 'La Vigie Lounge & Restaurant', 'Elsa', 'Café de Paris Monte-Carlo', 'La Coupole'])"
      ],
      "metadata": {
        "id": "UYfU7HR2VgKt"
      },
      "execution_count": null,
      "outputs": []
    },
    {
      "cell_type": "code",
      "source": [
        "text.append(\"\"\"Versailles Palace, Château de Chambord, Palace of Fontainebleau, Palace of Versailles, Château de Chenonceau, Château de Vaux-le-Vicomte, Palace of Tau, Palace of Versailles, Château de Chantilly, Château de Blois, Palais Garnier, Château de Compiègne, Château de Pierrefonds, Palace of Versailles, Château de Fontainebleau, Palace of Versailles, Château de Maisons-Laffitte, Palais de l'Élysée, Château de Saint-Germain-en-Laye, Château de Vincennes\"\"\")\n",
        "name.append(['Versailles Palace','Château de Chambord','Palace of Fontainebleau','Palace of Versailles','Château de Chenonceau','Château de Vaux-le-Vicomte','Palace of Tau','Palace of Versailles','Château de Chantilly','Château de Blois','Palais Garnier','Château de Compiègne','Château de Pierrefonds', 'Palace of Versailles', 'Château de Fontainebleau','Palace of Versailles','Château de Maisons-Laffitte', 'Palais de l\\'Élysée', 'Château de Saint-Germain-en-Laye','Château de Vincennes'])"
      ],
      "metadata": {
        "id": "91y8jKGYVgMt"
      },
      "execution_count": null,
      "outputs": []
    },
    {
      "cell_type": "code",
      "source": [
        "text.append(\"\"\"Amer Fort, Chittorgarh Fort, Mehrangarh Fort, Gwalior Fort, Jaisalmer Fort, Red Fort, Agra Fort, Golconda Fort, Bidar Fort, Kangra Fort, Kumbhalgarh Fort, Raigad Fort, Murud-Janjira Fort, Sindhudurg Fort, Rajmachi Fort, Bekal Fort, Gingee Fort, Kalinjar Fort, Ranthambore Fort, Taragarh Fort, Gagron Fort, Bhangarh Fort, Orchha Fort, Devagiri Fort, Daulatabad Fort, Panhala Fort, Shivneri Fort, Golkonda Fort, Jhansi Fort, Vellore Fort\"\"\")\n",
        "name.append(['Amer Fort', 'Chittorgarh Fort', 'Mehrangarh Fort', 'Gwalior Fort', 'Jaisalmer Fort', 'Red Fort', 'Agra Fort', 'Golconda Fort', 'Bidar Fort', 'Kangra Fort', 'Kumbhalgarh Fort', 'Raigad Fort', 'Murud-Janjira Fort', 'Sindhudurg Fort', 'Rajmachi Fort', 'Bekal Fort', 'Gingee Fort', 'Kalinjar Fort', 'Ranthambore Fort', 'Taragarh Fort', 'Gagron Fort', 'Bhangarh Fort', 'Orchha Fort', 'Devagiri Fort', 'Daulatabad Fort', 'Panhala Fort', 'Shivneri Fort', 'Golkonda Fort', 'Jhansi Fort', 'Vellore Fort'])"
      ],
      "metadata": {
        "id": "Qka43AJvVgOf"
      },
      "execution_count": null,
      "outputs": []
    },
    {
      "cell_type": "code",
      "source": [
        "text.append(\"\"\"30 tourist places in Bangalore: Lalbagh Botanical Garden, Cubbon Park, Bangalore Palace, Tipu Sultan's Summer Palace, Bannerghatta National Park, ISKCON Temple Bangalore, Ulsoor Lake, Vidhana Soudha, Bull Temple, St. Mary's Basilica, Wonderla Amusement Park, Visvesvaraya Industrial and Technological Museum, Jawaharlal Nehru Planetarium, Nandi Hills, Chunchi Falls, Innovative Film City, Gavi Gangadhareshwara Temple, Freedom Park, Sankey Tank, Orion Mall, Commercial Street, Brigade Road, UB City, Garuda Mall, Mantri Square, Phoenix Marketcity, The Forum Mall, Inorbit Mall, Esteem Mall, and Forum Shantiniketan Mall. \"\"\")\n",
        "name.append(['Lalbagh Botanical Garden', 'Cubbon Park', 'Bangalore Palace', \"Tipu Sultan's Summer Palace\", 'Bannerghatta National Park', 'ISKCON Temple Bangalore', 'Ulsoor Lake', 'Vidhana Soudha', 'Bull Temple', \"St. Mary's Basilica\", 'Wonderla Amusement Park', 'Visvesvaraya Industrial and Technological Museum', 'Jawaharlal Nehru Planetarium', 'Nandi Hills', 'Chunchi Falls', 'Innovative Film City', 'Gavi Gangadhareshwara Temple', 'Freedom Park', 'Sankey Tank', 'Orion Mall', 'Commercial Street', 'Brigade Road', 'UB City', 'Garuda Mall', 'Mantri Square', 'Phoenix Marketcity', 'The Forum Mall', 'Inorbit Mall', 'Esteem Mall', 'Forum Shantiniketan Mall'])"
      ],
      "metadata": {
        "id": "hNQ9jYmMVgRJ"
      },
      "execution_count": null,
      "outputs": []
    },
    {
      "cell_type": "code",
      "source": [
        "text.append(\"\"\"The Ridge, Mall Road, Kufri, Jakhoo Hill, Shimla State Museum, Christ Church, Tara Devi Temple, Summer Hill, Indian Institute of Advanced Study, Annandale, Chadwick Falls, Narkanda, Mashobra, Tattapani, Chail, Shaily Peak, Fagu, Lakkar Bazaar, Green Valley, Himalayan Bird Park, Jakhu Temple, Mahasu Peak, Wildflower Hall, Kamna Devi Temple, Viceregal Lodge, Sankat Mochan Temple, Shimla Water Catchment Sanctuary, The Shimla Reserve Forest Sanctuary, Kali Bari Temple, Gurkha Gate, and Shimla Glen. \"\"\")\n",
        "name.append(['The Ridge', 'Mall Road', 'Kufri', 'Jakhoo Hill', 'Shimla State Museum', 'Christ Church', 'Tara Devi Temple', 'Summer Hill', 'Indian Institute of Advanced Study', 'Annandale', 'Chadwick Falls', 'Narkanda', 'Mashobra', 'Tattapani', 'Chail', 'Shaily Peak', 'Fagu', 'Lakkar Bazaar', 'Green Valley', 'Himalayan Bird Park', 'Jakhu Temple', 'Mahasu Peak', 'Wildflower Hall', 'Kamna Devi Temple', 'Viceregal Lodge', 'Sankat Mochan Temple', 'Shimla Water Catchment Sanctuary', 'The Shimla Reserve Forest Sanctuary', 'Kali Bari Temple', 'Gurkha Gate', 'Shimla Glen'])"
      ],
      "metadata": {
        "id": "8rFDmUIzVgTy"
      },
      "execution_count": null,
      "outputs": []
    },
    {
      "cell_type": "code",
      "source": [
        "text.append(\"\"\"30 places in Manali: Hadimba Temple, Manu Temple, Solang Valley, Rohtang Pass, Jogini Waterfall, Vashisht Temple, Beas River, Old Manali, Club House, Van Vihar National Park, Tibetan Monastery, Nehru Kund, Arjun Gufa, Kothi, Gulaba, Manali Wildlife Sanctuary, Bhrigu Lake, Chandrakhani Pass, Kullu, Great Himalayan National Park, Rahala Falls, Manalsu Nala, Hampta Pass, Malana, Naggar Castle, Jana Waterfall, Manali Bazaar, Gadhan Thekchhokling Gompa Monastery, and Gauri Shankar Temple. \"\"\")\n",
        "name.append(['Hadimba Temple', 'Manu Temple', 'Solang Valley', 'Rohtang Pass', 'Jogini Waterfall', 'Vashisht Temple', 'Beas River', 'Old Manali', 'Club House', 'Van Vihar National Park', 'Tibetan Monastery', 'Nehru Kund', 'Arjun Gufa', 'Kothi', 'Gulaba', 'Manali Wildlife Sanctuary', 'Bhrigu Lake', 'Chandrakhani Pass', 'Kullu', 'Great Himalayan National Park', 'Rahala Falls', 'Manalsu Nala', 'Hampta Pass', 'Malana', 'Naggar Castle', 'Jana Waterfall', 'Manali Bazaar', 'Gadhan Thekchhokling Gompa Monastery', 'Gauri Shankar Temple'])"
      ],
      "metadata": {
        "id": "nIEcfyRCVgWc"
      },
      "execution_count": null,
      "outputs": []
    },
    {
      "cell_type": "code",
      "source": [
        "text.append(\"\"\"30 places in Ahmedabad: Sabarmati Ashram, Sidi Saiyyed Mosque, Kankaria Lake, Adalaj Stepwell, Calico Museum of Textiles, Jama Masjid, Akshardham Temple, Bhadra Fort and Teen Darwaza, Swaminarayan Temple, Vastrapur Lake, Sarkhej Roza, ISKCON Temple, Law Garden, Manek Chowk, Gujarat Science City, Rani no Hajiro, Lalbhai Dalpatbhai Museum, Shree Camp Hanuman Mandir, Nal Sarovar Bird Sanctuary, Rani Roopmati Mosque, Science Museum, Sabarmati Riverfront, Auto World Vintage Car Museum, Thol Lake, Shaking Minarets, Hutheesing Jain Temple, Sardar Patel Stadium, Vaishnodevi Temple, Sardar Patel National Memorial, and Sidi Bashir Mosque. \"\"\")\n",
        "name.append(['Sabarmati Ashram', 'Sidi Saiyyed Mosque', 'Kankaria Lake', 'Adalaj Stepwell', 'Calico Museum of Textiles', 'Jama Masjid', 'Akshardham Temple', 'Bhadra Fort and Teen Darwaza', 'Swaminarayan Temple', 'Vastrapur Lake', 'Sarkhej Roza', 'ISKCON Temple', 'Law Garden', 'Manek Chowk', 'Gujarat Science City', 'Rani no Hajiro', 'Lalbhai Dalpatbhai Museum', 'Shree Camp Hanuman Mandir', 'Nal Sarovar Bird Sanctuary', 'Rani Roopmati Mosque', 'Science Museum', 'Sabarmati Riverfront', 'Auto World Vintage Car Museum', 'Thol Lake', 'Shaking Minarets', 'Hutheesing Jain Temple', 'Sardar Patel Stadium', 'Vaishnodevi Temple', 'Sardar Patel National Memorial', 'Sidi Bashir Mosque']\n",
        ")"
      ],
      "metadata": {
        "id": "LX5_yNnrVgYx"
      },
      "execution_count": null,
      "outputs": []
    },
    {
      "cell_type": "code",
      "source": [
        "text.append(\"\"\"30 places in New York: Statue of Liberty, Empire State Building, Central Park, Times Square, Metropolitan Museum of Art, Brooklyn Bridge, One World Trade Center, American Museum of Natural History, Grand Central Terminal, High Line, Rockefeller Center, Broadway, 9/11 Memorial and Museum, Wall Street, Bryant Park, New York Public Library, Fifth Avenue, St. Patrick's Cathedral, Top of the Rock Observation Deck, Radio City Music Hall, Carnegie Hall, Madison Square Garden, Ellis Island, The Cloisters, The Guggenheim Museum, Chelsea Market, Intrepid Sea, Air & Space Museum, The Frick Collection, Coney Island, and The Whitney Museum of American Art. \"\"\")\n",
        "name.append(['Statue of Liberty', 'Empire State Building', 'Central Park', 'Times Square', 'Metropolitan Museum of Art', 'Brooklyn Bridge', 'One World Trade Center', 'American Museum of Natural History', 'Grand Central Terminal', 'High Line', 'Rockefeller Center', 'Broadway', '9/11 Memorial and Museum', 'Wall Street', 'Bryant Park', 'New York Public Library', 'Fifth Avenue', \"St. Patrick's Cathedral\", 'Top of the Rock Observation Deck', 'Radio City Music Hall', 'Carnegie Hall', 'Madison Square Garden', 'Ellis Island', 'The Cloisters', 'The Guggenheim Museum', 'Chelsea Market', 'Intrepid Sea, Air & Space Museum', 'The Frick Collection', 'Coney Island', 'The Whitney Museum of American Art'])"
      ],
      "metadata": {
        "id": "OehvF1VMvFBh"
      },
      "execution_count": null,
      "outputs": []
    },
    {
      "cell_type": "code",
      "source": [
        "text.append(\"\"\"30 places in Las Vegas: The Strip, Bellagio Fountains, Bellagio Conservatory and Botanical Gardens, Mirage Volcano, Fremont Street Experience, High Roller Ferris Wheel, The Mob Museum, The Neon Museum, The Venetian, The Palazzo, MGM Grand, Luxor Las Vegas, New York-New York, The Cosmopolitan, Caesars Palace, The Wynn, The Encore, ARIA Resort and Casino, Mandalay Bay, Shark Reef Aquarium, The Stratosphere, The Hoover Dam, Red Rock Canyon National Conservation Area, Lake Mead National Recreation Area, The Smith Center for the Performing Arts, Pinball Hall of Fame, The Las Vegas Natural History Museum, Springs Preserve, The National Atomic Testing Museum, and The Little Church of the West.\"\"\")\n",
        "name.append(['The Strip', 'Bellagio Fountains', 'Bellagio Conservatory and Botanical Gardens', 'Mirage Volcano', 'Fremont Street Experience', 'High Roller Ferris Wheel', 'The Mob Museum', 'The Neon Museum', 'The Venetian', 'The Palazzo', 'MGM Grand', 'Luxor Las Vegas', 'New York-New York', 'The Cosmopolitan', 'Caesars Palace', 'The Wynn', 'The Encore', 'ARIA Resort and Casino', 'Mandalay Bay', 'Shark Reef Aquarium', 'The Stratosphere', 'The Hoover Dam', 'Red Rock Canyon National Conservation Area', 'Lake Mead National Recreation Area', 'The Smith Center for the Performing Arts', 'Pinball Hall of Fame', 'The Las Vegas Natural History Museum', 'Springs Preserve', 'The National Atomic Testing Museum', 'The Little Church of the West']\n",
        ")"
      ],
      "metadata": {
        "id": "9nLddm6ovFEt"
      },
      "execution_count": null,
      "outputs": []
    },
    {
      "cell_type": "code",
      "source": [
        "text.append(\"\"\"Hollywood Walk of Fame, Universal Studios Hollywood, Griffith Observatory, Getty Center, The Broad, Santa Monica Pier, Venice Beach, The Grove, Rodeo Drive, Sunset Strip, Beverly Hills, Los Angeles County Museum of Art (LACMA), Natural History Museum of Los Angeles County, California Science Center, Petersen Automotive Museum, Museum of Contemporary Art (MOCA), The Nethercutt Collection, The Autry Museum of the American West, The Hammer Museum, The Huntington Library, Art Museum, and Botanical Gardens, The Getty Villa, The Natural History Museum at La Brea Tar Pits, The Los Angeles Zoo and Botanical Gardens, Disneyland, Knott's Berry Farm, Six Flags Magic Mountain, The Ronald Reagan Presidential Library and Museum, The Queen Mary, and Catalina Island. \"\"\")\n",
        "name.append(['Hollywood Walk of Fame', 'Universal Studios Hollywood', 'Griffith Observatory', 'Getty Center', 'The Broad', 'Santa Monica Pier', 'Venice Beach', 'The Grove', 'Rodeo Drive', 'Sunset Strip', 'Beverly Hills', 'Los Angeles County Museum of Art (LACMA)', 'Natural History Museum of Los Angeles County', 'California Science Center', 'Petersen Automotive Museum', 'Museum of Contemporary Art (MOCA)', 'The Nethercutt Collection', 'The Autry Museum of the American West', 'The Hammer Museum', 'The Huntington Library, Art Museum, and Botanical Gardens', 'The Getty Villa', 'The Natural History Museum at La Brea Tar Pits', 'The Los Angeles Zoo and Botanical Gardens', 'Disneyland', \"Knott's Berry Farm\", 'Six Flags Magic Mountain', 'The Ronald Reagan Presidential Library and Museum', 'The Queen Mary', 'Catalina Island']\n",
        ")"
      ],
      "metadata": {
        "id": "fNc5UD1uvFJo"
      },
      "execution_count": null,
      "outputs": []
    },
    {
      "cell_type": "code",
      "source": [
        "text.append(\"\"\"El Matador State Beach, Zuma Beach, Malibu Lagoon State Beach, Point Dume State Beach and Preserve, Leo Carrillo State Park, Carbon Beach, Malibu Creek State Park, Adamson House and Malibu Lagoon Museum, Malibu Pier, Pepperdine University, Getty Villa, Solstice Canyon, Corral Canyon Park, Escondido Falls, Surfrider Beach, Malibu Bluffs Park, Malibu Country Mart, Legacy Park, Malibu Colony, Malibu Wine Safari, Malibu Hindu Temple, Malibu Creek State Park, Malibu Canyon State Park, Malibu Pier Fishing, Point Mugu State Park, Malibu Seafood Fresh Fish Market and Patio Cafe, Malibu Farm, Broad Beach, Saddle Peak Trail, and The Rosenthal Winery Tasting Room.\"\"\")\n",
        "name.append()"
      ],
      "metadata": {
        "id": "j5tk6J2SvFPd"
      },
      "execution_count": null,
      "outputs": []
    },
    {
      "cell_type": "code",
      "source": [
        "text.append(\"\"\" \"\"\")\n",
        "name.append()"
      ],
      "metadata": {
        "id": "M-07S-EbvFTI"
      },
      "execution_count": null,
      "outputs": []
    },
    {
      "cell_type": "code",
      "source": [
        "text.append(\"\"\" \"\"\")\n",
        "name.append()"
      ],
      "metadata": {
        "id": "F98QcgeYvFV3"
      },
      "execution_count": null,
      "outputs": []
    },
    {
      "cell_type": "code",
      "source": [
        "text.append(\"\"\" \"\"\")\n",
        "name.append()"
      ],
      "metadata": {
        "id": "hFLtoheBvFYZ"
      },
      "execution_count": null,
      "outputs": []
    },
    {
      "cell_type": "code",
      "source": [
        "text.append(\"\"\" \"\"\")\n",
        "name.append()"
      ],
      "metadata": {
        "id": "N0WqRmUavFad"
      },
      "execution_count": null,
      "outputs": []
    },
    {
      "cell_type": "code",
      "source": [
        "text.append(\"\"\" \"\"\")\n",
        "name.append()"
      ],
      "metadata": {
        "id": "AI9DkpFfvFc1"
      },
      "execution_count": null,
      "outputs": []
    },
    {
      "cell_type": "code",
      "source": [
        "text.append(\"\"\" \"\"\")\n",
        "name.append()"
      ],
      "metadata": {
        "id": "WRsrWp0VvFfd"
      },
      "execution_count": null,
      "outputs": []
    },
    {
      "cell_type": "code",
      "source": [
        "text.append(\"\"\" \"\"\")\n",
        "name.append()"
      ],
      "metadata": {
        "id": "he6Sn-6HvFiw"
      },
      "execution_count": null,
      "outputs": []
    },
    {
      "cell_type": "code",
      "source": [
        "text.append(\"\"\" \"\"\")\n",
        "name.append()"
      ],
      "metadata": {
        "id": "DO00-qYyvFmZ"
      },
      "execution_count": null,
      "outputs": []
    },
    {
      "cell_type": "code",
      "source": [
        "text.append(\"\"\" \"\"\")\n",
        "name.append()"
      ],
      "metadata": {
        "id": "ShpI3qurVgbB"
      },
      "execution_count": null,
      "outputs": []
    }
  ]
}