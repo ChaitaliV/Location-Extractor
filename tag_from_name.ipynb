{
  "nbformat": 4,
  "nbformat_minor": 0,
  "metadata": {
    "colab": {
      "provenance": [],
      "authorship_tag": "ABX9TyMqXkCi4coIt0FjzRyBgejK",
      "include_colab_link": true
    },
    "kernelspec": {
      "name": "python3",
      "display_name": "Python 3"
    },
    "language_info": {
      "name": "python"
    }
  },
  "cells": [
    {
      "cell_type": "markdown",
      "metadata": {
        "id": "view-in-github",
        "colab_type": "text"
      },
      "source": [
        "<a href=\"https://colab.research.google.com/github/ChaitaliV/Location-Extractor/blob/main/tag_from_name.ipynb\" target=\"_parent\"><img src=\"https://colab.research.google.com/assets/colab-badge.svg\" alt=\"Open In Colab\"/></a>"
      ]
    },
    {
      "cell_type": "code",
      "execution_count": 1,
      "metadata": {
        "colab": {
          "base_uri": "https://localhost:8080/"
        },
        "id": "0aiQNSS-eQyw",
        "outputId": "0250a81b-6607-4f86-f726-8de08dc81037"
      },
      "outputs": [
        {
          "output_type": "stream",
          "name": "stdout",
          "text": [
            "Cloning into 'Location-Extractor'...\n",
            "remote: Enumerating objects: 306, done.\u001b[K\n",
            "remote: Counting objects: 100% (177/177), done.\u001b[K\n",
            "remote: Compressing objects: 100% (117/117), done.\u001b[K\n",
            "remote: Total 306 (delta 95), reused 108 (delta 59), pack-reused 129\u001b[K\n",
            "Receiving objects: 100% (306/306), 546.18 KiB | 8.95 MiB/s, done.\n",
            "Resolving deltas: 100% (168/168), done.\n"
          ]
        }
      ],
      "source": [
        "!git clone https://github.com/ChaitaliV/Location-Extractor"
      ]
    },
    {
      "cell_type": "code",
      "source": [
        "import pandas as pd"
      ],
      "metadata": {
        "id": "Zbyv3x66ecq6"
      },
      "execution_count": 2,
      "outputs": []
    },
    {
      "cell_type": "code",
      "source": [
        "df = pd.read_csv('Location-Extractor/Data/tags_for_tag1.csv')"
      ],
      "metadata": {
        "id": "tVQfojjBetwz"
      },
      "execution_count": 3,
      "outputs": []
    },
    {
      "cell_type": "code",
      "source": [
        "possible_tags = list(df['Tags'][:])"
      ],
      "metadata": {
        "id": "KVVnRo55e16F"
      },
      "execution_count": 6,
      "outputs": []
    },
    {
      "cell_type": "code",
      "source": [
        "possible_tags += ['Restaurant', 'Sushi','Cathedral','Vav','Stepwell']"
      ],
      "metadata": {
        "id": "W9AlGg4qkHVP"
      },
      "execution_count": 40,
      "outputs": []
    },
    {
      "cell_type": "code",
      "source": [
        "possible_tags = list(set(possible_tags))"
      ],
      "metadata": {
        "id": "QMJIe-SckdZR"
      },
      "execution_count": 42,
      "outputs": []
    },
    {
      "cell_type": "code",
      "source": [
        "import inflect\n",
        "\n",
        "def find_tags(word_list, input_text):\n",
        "    matching_words = set()  # Use a set to avoid duplicate entries\n",
        "    p = inflect.engine()  # Initialize the inflect engine\n",
        "    \n",
        "    # Dictionary mapping singular words to their plural forms\n",
        "    plural_dict = {\n",
        "        \"mount\": \"Mountain\"\n",
        "    }\n",
        "    \n",
        "    for word in word_list:\n",
        "        # Check if the word or its plural form is present in the input text\n",
        "        if word.lower() in input_text.lower() or p.plural(word.lower()) in input_text.lower():\n",
        "            matching_words.add(word)\n",
        "    \n",
        "    singular_words = []\n",
        "    for word in matching_words:\n",
        "        if word.lower() in plural_dict:\n",
        "            singular_words.append(plural_dict[word.lower()])\n",
        "        elif p.singular_noun(word):\n",
        "            singular_words.append(p.singular_noun(word))\n",
        "        else:\n",
        "            singular_words.append(word)\n",
        "    \n",
        "    return list(set(singular_words))\n"
      ],
      "metadata": {
        "id": "9huEu0E0iHC8"
      },
      "execution_count": 63,
      "outputs": []
    },
    {
      "cell_type": "code",
      "source": [
        "find_tags(possible_tags,\"Laxmi Vilas Palaces\")"
      ],
      "metadata": {
        "colab": {
          "base_uri": "https://localhost:8080/"
        },
        "id": "yJDsR4szlDPa",
        "outputId": "4bf0ac5c-b31f-4f0b-9bbe-3c4d5eb2d696"
      },
      "execution_count": 56,
      "outputs": [
        {
          "output_type": "stream",
          "name": "stdout",
          "text": [
            "Palace\n",
            "Palace\n"
          ]
        },
        {
          "output_type": "execute_result",
          "data": {
            "text/plain": [
              "['Palace']"
            ]
          },
          "metadata": {},
          "execution_count": 56
        }
      ]
    },
    {
      "cell_type": "code",
      "source": [
        "data = [\n",
        "    \"Calangute Beach\",\n",
        "    \"Baga Beach\",\n",
        "    \"Anjuna Beach\",\n",
        "    \"Fort Aguada\",\n",
        "    \"Dudhsagar Falls\",\n",
        "    \"Basilica of Bom Jesus\",\n",
        "    \"Chapora Fort\",\n",
        "    \"Se Cathedral\",\n",
        "    \"Palolem Beach\",\n",
        "    \"Fontainhas (Latin Quarter)\",\n",
        "    \"Gopal Sweets\",\n",
        "    \"Sethi Dhaba\",\n",
        "    \"Khyber Restaurant\",\n",
        "    \"Punjabi Haveli\",\n",
        "    \"Hawkers Chowk\",\n",
        "    \"Chawla Chicken\",\n",
        "    \"Mehfil Restaurant\",\n",
        "    \"Virgin Courtyard\",\n",
        "    \"Haveli\",\n",
        "    \"Baluchi Restaurant\",\n",
        "     \"Sabarmati Ashram\",\n",
        "    \"Rani Ki Vav\",\n",
        "    \"Sun Temple, Modhera\",\n",
        "    \"Champaner-Pavagadh Archaeological Park\",\n",
        "    \"Adalaj Stepwell\",\n",
        "    \"Dholavira\",\n",
        "    \"Sidi Saiyyed Mosque\",\n",
        "    \"Jama Masjid, Ahmedabad\",\n",
        "    \"Laxmi Vilas Palace\",\n",
        "    \"Somnath Temple\"\n",
        "]\n",
        "\n"
      ],
      "metadata": {
        "id": "FX7VKksvg2oz"
      },
      "execution_count": 60,
      "outputs": []
    },
    {
      "cell_type": "code",
      "source": [
        "tags = []\n",
        "for place in data:\n",
        "  tag = find_tags(possible_tags,place)\n",
        "  tags.append(tag)"
      ],
      "metadata": {
        "id": "JWsJJ1LTjuC3"
      },
      "execution_count": 64,
      "outputs": []
    },
    {
      "cell_type": "code",
      "source": [
        "tags"
      ],
      "metadata": {
        "colab": {
          "base_uri": "https://localhost:8080/"
        },
        "id": "vjxMkeFSj6mc",
        "outputId": "7943d609-60c9-40b0-aae0-69111524e36e"
      },
      "execution_count": 65,
      "outputs": [
        {
          "output_type": "execute_result",
          "data": {
            "text/plain": [
              "[['Beach'],\n",
              " ['Beach'],\n",
              " ['Beach'],\n",
              " ['Fort'],\n",
              " ['Fall'],\n",
              " ['Basilica'],\n",
              " ['Fort'],\n",
              " ['Cathedral'],\n",
              " ['Beach'],\n",
              " [],\n",
              " ['Sweet'],\n",
              " ['Dhaba'],\n",
              " ['Restaurant'],\n",
              " ['Punjabi'],\n",
              " [],\n",
              " [],\n",
              " ['Restaurant'],\n",
              " ['Court'],\n",
              " [],\n",
              " ['Restaurant'],\n",
              " ['Ashram', 'Bar'],\n",
              " ['Vav'],\n",
              " ['Temple'],\n",
              " ['Park', 'Archaeological Park'],\n",
              " ['Stepwell'],\n",
              " [],\n",
              " ['Mosque'],\n",
              " ['Masjid'],\n",
              " ['Palace'],\n",
              " ['Temple']]"
            ]
          },
          "metadata": {},
          "execution_count": 65
        }
      ]
    },
    {
      "cell_type": "code",
      "source": [
        "f = pd.DataFrame({'place_names': data,'Tags':tags})"
      ],
      "metadata": {
        "id": "4dss0BTnj8aT"
      },
      "execution_count": 66,
      "outputs": []
    },
    {
      "cell_type": "code",
      "source": [
        "f.to_csv('test_tagging.csv')"
      ],
      "metadata": {
        "id": "4uFFOSR5mZk6"
      },
      "execution_count": 67,
      "outputs": []
    },
    {
      "cell_type": "code",
      "source": [],
      "metadata": {
        "id": "FgsP80Vkmcta"
      },
      "execution_count": null,
      "outputs": []
    }
  ]
}